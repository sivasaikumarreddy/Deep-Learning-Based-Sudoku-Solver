{
 "cells": [
  {
   "cell_type": "code",
   "execution_count": 1,
   "id": "a00fdaa4",
   "metadata": {
    "execution": {
     "iopub.execute_input": "2024-01-28T15:47:17.241132Z",
     "iopub.status.busy": "2024-01-28T15:47:17.240658Z",
     "iopub.status.idle": "2024-01-28T15:47:19.104832Z",
     "shell.execute_reply": "2024-01-28T15:47:19.103812Z",
     "shell.execute_reply.started": "2024-01-28T15:47:17.241091Z"
    }
   },
   "outputs": [],
   "source": [
    "import torch\n",
    "from torch.utils.data import Dataset, DataLoader\n",
    "from torch import optim\n",
    "import torch.nn as nn\n",
    "import torch.nn.functional as F\n",
    "import pandas as pd\n",
    "import numpy as np\n",
    "from tqdm import tqdm\n",
    "\n",
    "import matplotlib.pyplot as plt\n",
    "import time\n",
    "\n",
    "device = torch.device(\"cuda\" if torch.cuda.is_available() else \"cpu\")"
   ]
  },
  {
   "cell_type": "code",
   "execution_count": 2,
   "id": "282fba5b",
   "metadata": {
    "execution": {
     "iopub.execute_input": "2024-01-28T15:47:19.107575Z",
     "iopub.status.busy": "2024-01-28T15:47:19.107053Z",
     "iopub.status.idle": "2024-01-28T15:47:19.151745Z",
     "shell.execute_reply": "2024-01-28T15:47:19.150714Z",
     "shell.execute_reply.started": "2024-01-28T15:47:19.107539Z"
    }
   },
   "outputs": [],
   "source": [
    "train_grids = np.load('data/sudoku_train_grids.npy')\n",
    "train_grids_labels = np.load('data/sudoku_train_grids_labels.npy')\n",
    "\n",
    "train_grids = train_grids.astype(\"float32\")\n",
    "train_grids_labels = train_grids_labels.astype(\"float32\")"
   ]
  },
  {
   "cell_type": "code",
   "execution_count": 3,
   "id": "bbdd7650",
   "metadata": {
    "execution": {
     "iopub.execute_input": "2024-01-28T15:47:19.153757Z",
     "iopub.status.busy": "2024-01-28T15:47:19.153373Z",
     "iopub.status.idle": "2024-01-28T15:47:19.160621Z",
     "shell.execute_reply": "2024-01-28T15:47:19.159644Z",
     "shell.execute_reply.started": "2024-01-28T15:47:19.153721Z"
    }
   },
   "outputs": [
    {
     "data": {
      "text/plain": [
       "(50000, 9, 9)"
      ]
     },
     "execution_count": 3,
     "metadata": {},
     "output_type": "execute_result"
    }
   ],
   "source": [
    "train_grids.shape"
   ]
  },
  {
   "cell_type": "code",
   "execution_count": 4,
   "id": "f30f78ec",
   "metadata": {
    "execution": {
     "iopub.execute_input": "2024-01-28T15:47:19.163014Z",
     "iopub.status.busy": "2024-01-28T15:47:19.162698Z",
     "iopub.status.idle": "2024-01-28T15:47:19.172209Z",
     "shell.execute_reply": "2024-01-28T15:47:19.171429Z",
     "shell.execute_reply.started": "2024-01-28T15:47:19.162988Z"
    }
   },
   "outputs": [
    {
     "data": {
      "text/plain": [
       "(50000, 9, 9)"
      ]
     },
     "execution_count": 4,
     "metadata": {},
     "output_type": "execute_result"
    }
   ],
   "source": [
    "train_grids_labels.shape"
   ]
  },
  {
   "cell_type": "code",
   "execution_count": 5,
   "id": "148caa7a",
   "metadata": {
    "execution": {
     "iopub.execute_input": "2024-01-28T15:47:19.173638Z",
     "iopub.status.busy": "2024-01-28T15:47:19.173351Z",
     "iopub.status.idle": "2024-01-28T15:47:19.187481Z",
     "shell.execute_reply": "2024-01-28T15:47:19.186627Z",
     "shell.execute_reply.started": "2024-01-28T15:47:19.173615Z"
    }
   },
   "outputs": [],
   "source": [
    "train_grids = train_grids.reshape(-1,1,9,9)\n",
    "train_grids_labels = train_grids_labels.reshape(-1,81,1) - 1 "
   ]
  },
  {
   "cell_type": "code",
   "execution_count": 6,
   "id": "5a2f5e66",
   "metadata": {
    "execution": {
     "iopub.execute_input": "2024-01-28T15:47:19.189252Z",
     "iopub.status.busy": "2024-01-28T15:47:19.188617Z",
     "iopub.status.idle": "2024-01-28T15:47:19.220716Z",
     "shell.execute_reply": "2024-01-28T15:47:19.219819Z",
     "shell.execute_reply.started": "2024-01-28T15:47:19.189218Z"
    }
   },
   "outputs": [],
   "source": [
    "sudoku_grids = torch.tensor(train_grids) #converting to tensors\n",
    "sudoku_grids_labels = torch.tensor(train_grids_labels)\n",
    "\n",
    "test_size = 0.2\n",
    "\n",
    "num_test_samples = int(len(sudoku_grids) * test_size)\n",
    "\n",
    "# Shuffling the dataset\n",
    "indices = np.arange(len(sudoku_grids))\n",
    "np.random.shuffle(indices)\n",
    "\n",
    "train_indices , test_indices = indices[num_test_samples:] , indices[:num_test_samples]\n",
    "\n",
    "# splitting into train and test \n",
    "X_train, y_train = sudoku_grids[train_indices] , sudoku_grids_labels[train_indices]\n",
    "X_test, y_test= sudoku_grids[test_indices] , sudoku_grids_labels[test_indices]"
   ]
  },
  {
   "cell_type": "code",
   "execution_count": 7,
   "id": "59c5bb64",
   "metadata": {
    "execution": {
     "iopub.execute_input": "2024-01-28T15:47:19.222258Z",
     "iopub.status.busy": "2024-01-28T15:47:19.221967Z",
     "iopub.status.idle": "2024-01-28T15:47:19.227955Z",
     "shell.execute_reply": "2024-01-28T15:47:19.227015Z",
     "shell.execute_reply.started": "2024-01-28T15:47:19.222233Z"
    }
   },
   "outputs": [],
   "source": [
    "class SudokuDataset(Dataset):\n",
    "    def __init__(self,data , labels):\n",
    "        self.data = data\n",
    "        self.labels = labels\n",
    "\n",
    "    def __len__(self):\n",
    "        return len(self.data)\n",
    "\n",
    "    def __getitem__(self,idx):\n",
    "        sample = self.data[idx]\n",
    "        label = self.labels[idx]\n",
    "        return sample , label"
   ]
  },
  {
   "cell_type": "code",
   "execution_count": 8,
   "id": "ca77a1a5",
   "metadata": {
    "execution": {
     "iopub.execute_input": "2024-01-28T15:47:19.229448Z",
     "iopub.status.busy": "2024-01-28T15:47:19.229115Z",
     "iopub.status.idle": "2024-01-28T15:47:19.238730Z",
     "shell.execute_reply": "2024-01-28T15:47:19.237971Z",
     "shell.execute_reply.started": "2024-01-28T15:47:19.229415Z"
    }
   },
   "outputs": [],
   "source": [
    "# Creating the training set and the validation set based on our train and test split\n",
    "train_set = SudokuDataset(X_train , y_train)\n",
    "val_set = SudokuDataset(X_test , y_test)\n",
    "\n",
    "criterion = nn.CrossEntropyLoss()"
   ]
  },
  {
   "cell_type": "code",
   "execution_count": 9,
   "id": "e3722ea7",
   "metadata": {
    "execution": {
     "iopub.execute_input": "2024-01-28T15:47:19.240762Z",
     "iopub.status.busy": "2024-01-28T15:47:19.240242Z",
     "iopub.status.idle": "2024-01-28T15:47:19.257278Z",
     "shell.execute_reply": "2024-01-28T15:47:19.256406Z",
     "shell.execute_reply.started": "2024-01-28T15:47:19.240728Z"
    }
   },
   "outputs": [],
   "source": [
    "# Creating a training loop with train and validation loops \n",
    "def train_model(model, train_loader, test_loader, epochs):\n",
    "    losses = {'train': [], 'val': []}\n",
    "    accuracies = {'train': [], 'val': []}\n",
    "    for epoch in range(epochs):\n",
    "        model.train()\n",
    "        train_loss = 0.0\n",
    "        train_correct = 0\n",
    "        total_train = 0\n",
    "\n",
    "        # Training Phase\n",
    "        for inputs, labels in tqdm(train_loader, desc=f\"Epoch {epoch + 1} Training\"):\n",
    "            inputs, labels = inputs.to(device), labels.to(device)\n",
    "            optimizer.zero_grad()\n",
    "            outputs = model(inputs)\n",
    "            loss = criterion(outputs, labels.view(-1).long())\n",
    "            loss.backward()\n",
    "            optimizer.step()\n",
    "\n",
    "            train_loss += loss.item()\n",
    "            _, predicted = torch.max(outputs, dim=1)\n",
    "            correct = (predicted == labels.view(-1)).sum().item()\n",
    "            train_correct += (correct / labels.view(-1).size(0)) * labels.size(0)\n",
    "            total_train += labels.size(0)\n",
    "\n",
    "        avg_train_loss = train_loss / len(train_loader)\n",
    "        train_accuracy = train_correct / total_train\n",
    "\n",
    "        # Validation Phase\n",
    "        model.eval()\n",
    "        val_loss = 0.0\n",
    "        val_correct = 0\n",
    "        total_val = 0\n",
    "\n",
    "        with torch.no_grad():\n",
    "            for inputs, labels in tqdm(test_loader, desc=f\"Epoch {epoch + 1} Validation\"):\n",
    "                inputs, labels = inputs.to(device), labels.to(device)\n",
    "                outputs = model(inputs)\n",
    "                val_loss += criterion(outputs, labels.view(-1).long()).item()\n",
    "\n",
    "                _, predicted = torch.max(outputs, dim=1)\n",
    "                correct = (predicted == labels.view(-1)).sum().item()\n",
    "                val_correct += (correct / labels.view(-1).size(0)) * labels.size(0)\n",
    "                total_val += labels.size(0)\n",
    "\n",
    "        avg_val_loss = val_loss / len(test_loader)\n",
    "        val_accuracy = val_correct / total_val\n",
    "\n",
    "        losses['train'].append(avg_train_loss)\n",
    "        losses['val'].append(avg_val_loss)\n",
    "        accuracies['train'].append(train_accuracy)\n",
    "        accuracies['val'].append(val_accuracy)\n",
    "\n",
    "        print(f'Epoch {epoch + 1}: '\n",
    "              f'Train Loss: {avg_train_loss:.4f}, '\n",
    "              f'Train Accuracy: {train_accuracy:.4f}, '\n",
    "              f'Validation Loss: {avg_val_loss:.4f}, '\n",
    "              f'Validation Accuracy: {val_accuracy:.4f}')\n",
    "    # Plot loss and accuracy curves\n",
    "    plt.figure(figsize=(10, 5))\n",
    "    plt.subplot(1, 2, 1)\n",
    "    plt.plot(losses['train'], label='Train Loss')\n",
    "    plt.plot(losses['val'], label='Validation Loss')\n",
    "    plt.xlabel('Epoch')\n",
    "    plt.ylabel('Loss')\n",
    "    plt.title('Loss Curves')\n",
    "    plt.legend()\n",
    "\n",
    "    plt.subplot(1, 2, 2)\n",
    "    plt.plot(accuracies['train'], label='Train Accuracy')\n",
    "    plt.plot(accuracies['val'], label='Validation Accuracy')\n",
    "    plt.xlabel('Epoch')\n",
    "    plt.ylabel('Accuracy')\n",
    "    plt.title('Accuracy Curves')\n",
    "    plt.legend()\n",
    "\n",
    "    plt.tight_layout()\n",
    "    plt.show()"
   ]
  },
  {
   "cell_type": "markdown",
   "id": "fbb3903f",
   "metadata": {},
   "source": [
    "# Fully Connected Network"
   ]
  },
  {
   "cell_type": "code",
   "execution_count": null,
   "id": "bdd65b82",
   "metadata": {},
   "outputs": [],
   "source": [
    "class SudokuSolverANN(nn.Module):\n",
    "    def __init__(self,dropout_rate = 0.2):\n",
    "        super(SudokuSolverANN, self).__init__()\n",
    "        self.fc1 = nn.Linear(9 * 9, 256)\n",
    "        self.bn1 = nn.BatchNorm1d(256)\n",
    "        self.fc2 = nn.Linear(256, 512)\n",
    "        self.bn2 = nn.BatchNorm1d(512)\n",
    "        self.fc3 = nn.Linear(512, 1024)\n",
    "        self.bn3 = nn.BatchNorm1d(1024)\n",
    "        self.dropout = nn.Dropout(p=dropout_rate)\n",
    "        self.fc4 = nn.Linear(1024, 81 * 9)\n",
    "\n",
    "    def forward(self, x):\n",
    "        x = x.view(x.size(0), -1)  \n",
    "        x = F.relu(self.bn1(self.fc1(x)))\n",
    "        x = F.relu(self.bn2(self.fc2(x)))\n",
    "        x = F.relu(self.bn3(self.fc3(x)))\n",
    "        x = self.dropout(x)\n",
    "        x = self.fc4(x)\n",
    "        return x.view(-1, 9)\n",
    "        \n",
    "model = SudokuSolverANN(dropout_rate =0.2)\n",
    "model.to(device) # moving to the device gpu"
   ]
  },
  {
   "cell_type": "code",
   "execution_count": 11,
   "id": "9816b443",
   "metadata": {
    "execution": {
     "iopub.execute_input": "2024-01-28T15:47:19.423828Z",
     "iopub.status.busy": "2024-01-28T15:47:19.423429Z",
     "iopub.status.idle": "2024-01-28T15:47:19.429985Z",
     "shell.execute_reply": "2024-01-28T15:47:19.429000Z",
     "shell.execute_reply.started": "2024-01-28T15:47:19.423777Z"
    }
   },
   "outputs": [
    {
     "data": {
      "text/plain": [
       "SudokuSolverANN(\n",
       "  (fc1): Linear(in_features=81, out_features=256, bias=True)\n",
       "  (bn1): BatchNorm1d(256, eps=1e-05, momentum=0.1, affine=True, track_running_stats=True)\n",
       "  (fc2): Linear(in_features=256, out_features=512, bias=True)\n",
       "  (bn2): BatchNorm1d(512, eps=1e-05, momentum=0.1, affine=True, track_running_stats=True)\n",
       "  (fc3): Linear(in_features=512, out_features=1024, bias=True)\n",
       "  (bn3): BatchNorm1d(1024, eps=1e-05, momentum=0.1, affine=True, track_running_stats=True)\n",
       "  (dropout): Dropout(p=0.2, inplace=False)\n",
       "  (fc4): Linear(in_features=1024, out_features=729, bias=True)\n",
       ")"
      ]
     },
     "execution_count": 11,
     "metadata": {},
     "output_type": "execute_result"
    }
   ],
   "source": [
    "model"
   ]
  },
  {
   "cell_type": "code",
   "execution_count": 12,
   "id": "2c0fbeec",
   "metadata": {
    "execution": {
     "iopub.execute_input": "2024-01-28T15:47:19.431488Z",
     "iopub.status.busy": "2024-01-28T15:47:19.431217Z",
     "iopub.status.idle": "2024-01-28T15:51:14.150558Z",
     "shell.execute_reply": "2024-01-28T15:51:14.149585Z",
     "shell.execute_reply.started": "2024-01-28T15:47:19.431465Z"
    }
   },
   "outputs": [
    {
     "name": "stderr",
     "output_type": "stream",
     "text": [
      "Epoch 1 Training: 100%|██████████| 625/625 [00:02<00:00, 304.07it/s]\n",
      "Epoch 1 Validation: 100%|██████████| 313/313 [00:00<00:00, 741.98it/s]\n"
     ]
    },
    {
     "name": "stdout",
     "output_type": "stream",
     "text": [
      "Epoch 1: Train Loss: 2.1600, Train Accuracy: 0.1557, Validation Loss: 2.1064, Validation Accuracy: 0.1684\n"
     ]
    },
    {
     "name": "stderr",
     "output_type": "stream",
     "text": [
      "Epoch 2 Training: 100%|██████████| 625/625 [00:01<00:00, 316.55it/s]\n",
      "Epoch 2 Validation: 100%|██████████| 313/313 [00:00<00:00, 857.70it/s]\n"
     ]
    },
    {
     "name": "stdout",
     "output_type": "stream",
     "text": [
      "Epoch 2: Train Loss: 2.0807, Train Accuracy: 0.1837, Validation Loss: 2.0713, Validation Accuracy: 0.1792\n"
     ]
    },
    {
     "name": "stderr",
     "output_type": "stream",
     "text": [
      "Epoch 3 Training: 100%|██████████| 625/625 [00:01<00:00, 323.51it/s]\n",
      "Epoch 3 Validation: 100%|██████████| 313/313 [00:00<00:00, 864.57it/s]\n"
     ]
    },
    {
     "name": "stdout",
     "output_type": "stream",
     "text": [
      "Epoch 3: Train Loss: 2.0283, Train Accuracy: 0.2042, Validation Loss: 2.0124, Validation Accuracy: 0.2004\n"
     ]
    },
    {
     "name": "stderr",
     "output_type": "stream",
     "text": [
      "Epoch 4 Training: 100%|██████████| 625/625 [00:01<00:00, 327.54it/s]\n",
      "Epoch 4 Validation: 100%|██████████| 313/313 [00:00<00:00, 839.10it/s]\n"
     ]
    },
    {
     "name": "stdout",
     "output_type": "stream",
     "text": [
      "Epoch 4: Train Loss: 1.9719, Train Accuracy: 0.2249, Validation Loss: 1.9601, Validation Accuracy: 0.2194\n"
     ]
    },
    {
     "name": "stderr",
     "output_type": "stream",
     "text": [
      "Epoch 5 Training: 100%|██████████| 625/625 [00:01<00:00, 321.65it/s]\n",
      "Epoch 5 Validation: 100%|██████████| 313/313 [00:00<00:00, 825.70it/s]\n"
     ]
    },
    {
     "name": "stdout",
     "output_type": "stream",
     "text": [
      "Epoch 5: Train Loss: 1.9289, Train Accuracy: 0.2427, Validation Loss: 1.9253, Validation Accuracy: 0.2347\n"
     ]
    },
    {
     "name": "stderr",
     "output_type": "stream",
     "text": [
      "Epoch 6 Training: 100%|██████████| 625/625 [00:01<00:00, 313.73it/s]\n",
      "Epoch 6 Validation: 100%|██████████| 313/313 [00:00<00:00, 849.93it/s]\n"
     ]
    },
    {
     "name": "stdout",
     "output_type": "stream",
     "text": [
      "Epoch 6: Train Loss: 1.8971, Train Accuracy: 0.2571, Validation Loss: 1.8999, Validation Accuracy: 0.2466\n"
     ]
    },
    {
     "name": "stderr",
     "output_type": "stream",
     "text": [
      "Epoch 7 Training: 100%|██████████| 625/625 [00:02<00:00, 303.24it/s]\n",
      "Epoch 7 Validation: 100%|██████████| 313/313 [00:00<00:00, 848.76it/s]\n"
     ]
    },
    {
     "name": "stdout",
     "output_type": "stream",
     "text": [
      "Epoch 7: Train Loss: 1.8704, Train Accuracy: 0.2692, Validation Loss: 1.8793, Validation Accuracy: 0.2566\n"
     ]
    },
    {
     "name": "stderr",
     "output_type": "stream",
     "text": [
      "Epoch 8 Training: 100%|██████████| 625/625 [00:01<00:00, 327.43it/s]\n",
      "Epoch 8 Validation: 100%|██████████| 313/313 [00:00<00:00, 837.83it/s]\n"
     ]
    },
    {
     "name": "stdout",
     "output_type": "stream",
     "text": [
      "Epoch 8: Train Loss: 1.8487, Train Accuracy: 0.2793, Validation Loss: 1.8620, Validation Accuracy: 0.2651\n"
     ]
    },
    {
     "name": "stderr",
     "output_type": "stream",
     "text": [
      "Epoch 9 Training: 100%|██████████| 625/625 [00:01<00:00, 322.08it/s]\n",
      "Epoch 9 Validation: 100%|██████████| 313/313 [00:00<00:00, 863.77it/s]\n"
     ]
    },
    {
     "name": "stdout",
     "output_type": "stream",
     "text": [
      "Epoch 9: Train Loss: 1.8283, Train Accuracy: 0.2889, Validation Loss: 1.8461, Validation Accuracy: 0.2730\n"
     ]
    },
    {
     "name": "stderr",
     "output_type": "stream",
     "text": [
      "Epoch 10 Training: 100%|██████████| 625/625 [00:01<00:00, 318.91it/s]\n",
      "Epoch 10 Validation: 100%|██████████| 313/313 [00:00<00:00, 822.20it/s]\n"
     ]
    },
    {
     "name": "stdout",
     "output_type": "stream",
     "text": [
      "Epoch 10: Train Loss: 1.8110, Train Accuracy: 0.2969, Validation Loss: 1.8311, Validation Accuracy: 0.2801\n"
     ]
    },
    {
     "name": "stderr",
     "output_type": "stream",
     "text": [
      "Epoch 11 Training: 100%|██████████| 625/625 [00:01<00:00, 320.55it/s]\n",
      "Epoch 11 Validation: 100%|██████████| 313/313 [00:00<00:00, 848.69it/s]\n"
     ]
    },
    {
     "name": "stdout",
     "output_type": "stream",
     "text": [
      "Epoch 11: Train Loss: 1.7938, Train Accuracy: 0.3044, Validation Loss: 1.8175, Validation Accuracy: 0.2874\n"
     ]
    },
    {
     "name": "stderr",
     "output_type": "stream",
     "text": [
      "Epoch 12 Training: 100%|██████████| 625/625 [00:01<00:00, 320.23it/s]\n",
      "Epoch 12 Validation: 100%|██████████| 313/313 [00:00<00:00, 832.54it/s]\n"
     ]
    },
    {
     "name": "stdout",
     "output_type": "stream",
     "text": [
      "Epoch 12: Train Loss: 1.7786, Train Accuracy: 0.3109, Validation Loss: 1.8061, Validation Accuracy: 0.2919\n"
     ]
    },
    {
     "name": "stderr",
     "output_type": "stream",
     "text": [
      "Epoch 13 Training: 100%|██████████| 625/625 [00:01<00:00, 322.11it/s]\n",
      "Epoch 13 Validation: 100%|██████████| 313/313 [00:00<00:00, 853.70it/s]\n"
     ]
    },
    {
     "name": "stdout",
     "output_type": "stream",
     "text": [
      "Epoch 13: Train Loss: 1.7649, Train Accuracy: 0.3175, Validation Loss: 1.7934, Validation Accuracy: 0.2993\n"
     ]
    },
    {
     "name": "stderr",
     "output_type": "stream",
     "text": [
      "Epoch 14 Training: 100%|██████████| 625/625 [00:01<00:00, 320.88it/s]\n",
      "Epoch 14 Validation: 100%|██████████| 313/313 [00:00<00:00, 786.20it/s]\n"
     ]
    },
    {
     "name": "stdout",
     "output_type": "stream",
     "text": [
      "Epoch 14: Train Loss: 1.7505, Train Accuracy: 0.3237, Validation Loss: 1.7811, Validation Accuracy: 0.3048\n"
     ]
    },
    {
     "name": "stderr",
     "output_type": "stream",
     "text": [
      "Epoch 15 Training: 100%|██████████| 625/625 [00:01<00:00, 319.53it/s]\n",
      "Epoch 15 Validation: 100%|██████████| 313/313 [00:00<00:00, 875.53it/s]\n"
     ]
    },
    {
     "name": "stdout",
     "output_type": "stream",
     "text": [
      "Epoch 15: Train Loss: 1.7393, Train Accuracy: 0.3282, Validation Loss: 1.7708, Validation Accuracy: 0.3093\n"
     ]
    },
    {
     "name": "stderr",
     "output_type": "stream",
     "text": [
      "Epoch 16 Training: 100%|██████████| 625/625 [00:01<00:00, 316.73it/s]\n",
      "Epoch 16 Validation: 100%|██████████| 313/313 [00:00<00:00, 829.16it/s]\n"
     ]
    },
    {
     "name": "stdout",
     "output_type": "stream",
     "text": [
      "Epoch 16: Train Loss: 1.7276, Train Accuracy: 0.3335, Validation Loss: 1.7591, Validation Accuracy: 0.3163\n"
     ]
    },
    {
     "name": "stderr",
     "output_type": "stream",
     "text": [
      "Epoch 17 Training: 100%|██████████| 625/625 [00:01<00:00, 319.31it/s]\n",
      "Epoch 17 Validation: 100%|██████████| 313/313 [00:00<00:00, 845.04it/s]\n"
     ]
    },
    {
     "name": "stdout",
     "output_type": "stream",
     "text": [
      "Epoch 17: Train Loss: 1.7185, Train Accuracy: 0.3372, Validation Loss: 1.7508, Validation Accuracy: 0.3197\n"
     ]
    },
    {
     "name": "stderr",
     "output_type": "stream",
     "text": [
      "Epoch 18 Training: 100%|██████████| 625/625 [00:01<00:00, 321.58it/s]\n",
      "Epoch 18 Validation: 100%|██████████| 313/313 [00:00<00:00, 842.25it/s]\n"
     ]
    },
    {
     "name": "stdout",
     "output_type": "stream",
     "text": [
      "Epoch 18: Train Loss: 1.7084, Train Accuracy: 0.3413, Validation Loss: 1.7412, Validation Accuracy: 0.3234\n"
     ]
    },
    {
     "name": "stderr",
     "output_type": "stream",
     "text": [
      "Epoch 19 Training: 100%|██████████| 625/625 [00:01<00:00, 316.30it/s]\n",
      "Epoch 19 Validation: 100%|██████████| 313/313 [00:00<00:00, 834.73it/s]\n"
     ]
    },
    {
     "name": "stdout",
     "output_type": "stream",
     "text": [
      "Epoch 19: Train Loss: 1.6996, Train Accuracy: 0.3452, Validation Loss: 1.7330, Validation Accuracy: 0.3284\n"
     ]
    },
    {
     "name": "stderr",
     "output_type": "stream",
     "text": [
      "Epoch 20 Training: 100%|██████████| 625/625 [00:02<00:00, 310.91it/s]\n",
      "Epoch 20 Validation: 100%|██████████| 313/313 [00:00<00:00, 833.67it/s]\n"
     ]
    },
    {
     "name": "stdout",
     "output_type": "stream",
     "text": [
      "Epoch 20: Train Loss: 1.6902, Train Accuracy: 0.3494, Validation Loss: 1.7223, Validation Accuracy: 0.3332\n"
     ]
    },
    {
     "name": "stderr",
     "output_type": "stream",
     "text": [
      "Epoch 21 Training: 100%|██████████| 625/625 [00:01<00:00, 320.48it/s]\n",
      "Epoch 21 Validation: 100%|██████████| 313/313 [00:00<00:00, 866.33it/s]\n"
     ]
    },
    {
     "name": "stdout",
     "output_type": "stream",
     "text": [
      "Epoch 21: Train Loss: 1.6828, Train Accuracy: 0.3524, Validation Loss: 1.7148, Validation Accuracy: 0.3372\n"
     ]
    },
    {
     "name": "stderr",
     "output_type": "stream",
     "text": [
      "Epoch 22 Training: 100%|██████████| 625/625 [00:01<00:00, 320.40it/s]\n",
      "Epoch 22 Validation: 100%|██████████| 313/313 [00:00<00:00, 833.35it/s]\n"
     ]
    },
    {
     "name": "stdout",
     "output_type": "stream",
     "text": [
      "Epoch 22: Train Loss: 1.6738, Train Accuracy: 0.3565, Validation Loss: 1.7066, Validation Accuracy: 0.3408\n"
     ]
    },
    {
     "name": "stderr",
     "output_type": "stream",
     "text": [
      "Epoch 23 Training: 100%|██████████| 625/625 [00:01<00:00, 319.27it/s]\n",
      "Epoch 23 Validation: 100%|██████████| 313/313 [00:00<00:00, 831.82it/s]\n"
     ]
    },
    {
     "name": "stdout",
     "output_type": "stream",
     "text": [
      "Epoch 23: Train Loss: 1.6692, Train Accuracy: 0.3580, Validation Loss: 1.6990, Validation Accuracy: 0.3448\n"
     ]
    },
    {
     "name": "stderr",
     "output_type": "stream",
     "text": [
      "Epoch 24 Training: 100%|██████████| 625/625 [00:01<00:00, 321.61it/s]\n",
      "Epoch 24 Validation: 100%|██████████| 313/313 [00:00<00:00, 868.76it/s]\n"
     ]
    },
    {
     "name": "stdout",
     "output_type": "stream",
     "text": [
      "Epoch 24: Train Loss: 1.6613, Train Accuracy: 0.3618, Validation Loss: 1.6908, Validation Accuracy: 0.3490\n"
     ]
    },
    {
     "name": "stderr",
     "output_type": "stream",
     "text": [
      "Epoch 25 Training: 100%|██████████| 625/625 [00:01<00:00, 322.32it/s]\n",
      "Epoch 25 Validation: 100%|██████████| 313/313 [00:00<00:00, 841.33it/s]\n"
     ]
    },
    {
     "name": "stdout",
     "output_type": "stream",
     "text": [
      "Epoch 25: Train Loss: 1.6538, Train Accuracy: 0.3646, Validation Loss: 1.6849, Validation Accuracy: 0.3513\n"
     ]
    },
    {
     "name": "stderr",
     "output_type": "stream",
     "text": [
      "Epoch 26 Training: 100%|██████████| 625/625 [00:01<00:00, 322.11it/s]\n",
      "Epoch 26 Validation: 100%|██████████| 313/313 [00:00<00:00, 862.22it/s]\n"
     ]
    },
    {
     "name": "stdout",
     "output_type": "stream",
     "text": [
      "Epoch 26: Train Loss: 1.6484, Train Accuracy: 0.3669, Validation Loss: 1.6779, Validation Accuracy: 0.3550\n"
     ]
    },
    {
     "name": "stderr",
     "output_type": "stream",
     "text": [
      "Epoch 27 Training: 100%|██████████| 625/625 [00:01<00:00, 317.83it/s]\n",
      "Epoch 27 Validation: 100%|██████████| 313/313 [00:00<00:00, 844.91it/s]\n"
     ]
    },
    {
     "name": "stdout",
     "output_type": "stream",
     "text": [
      "Epoch 27: Train Loss: 1.6409, Train Accuracy: 0.3702, Validation Loss: 1.6683, Validation Accuracy: 0.3602\n"
     ]
    },
    {
     "name": "stderr",
     "output_type": "stream",
     "text": [
      "Epoch 28 Training: 100%|██████████| 625/625 [00:01<00:00, 323.48it/s]\n",
      "Epoch 28 Validation: 100%|██████████| 313/313 [00:00<00:00, 831.91it/s]\n"
     ]
    },
    {
     "name": "stdout",
     "output_type": "stream",
     "text": [
      "Epoch 28: Train Loss: 1.6348, Train Accuracy: 0.3727, Validation Loss: 1.6599, Validation Accuracy: 0.3646\n"
     ]
    },
    {
     "name": "stderr",
     "output_type": "stream",
     "text": [
      "Epoch 29 Training: 100%|██████████| 625/625 [00:01<00:00, 324.35it/s]\n",
      "Epoch 29 Validation: 100%|██████████| 313/313 [00:00<00:00, 849.50it/s]\n"
     ]
    },
    {
     "name": "stdout",
     "output_type": "stream",
     "text": [
      "Epoch 29: Train Loss: 1.6290, Train Accuracy: 0.3748, Validation Loss: 1.6548, Validation Accuracy: 0.3660\n"
     ]
    },
    {
     "name": "stderr",
     "output_type": "stream",
     "text": [
      "Epoch 30 Training: 100%|██████████| 625/625 [00:01<00:00, 319.15it/s]\n",
      "Epoch 30 Validation: 100%|██████████| 313/313 [00:00<00:00, 856.41it/s]\n"
     ]
    },
    {
     "name": "stdout",
     "output_type": "stream",
     "text": [
      "Epoch 30: Train Loss: 1.6224, Train Accuracy: 0.3775, Validation Loss: 1.6480, Validation Accuracy: 0.3688\n"
     ]
    },
    {
     "name": "stderr",
     "output_type": "stream",
     "text": [
      "Epoch 31 Training: 100%|██████████| 625/625 [00:01<00:00, 328.17it/s]\n",
      "Epoch 31 Validation: 100%|██████████| 313/313 [00:00<00:00, 828.75it/s]\n"
     ]
    },
    {
     "name": "stdout",
     "output_type": "stream",
     "text": [
      "Epoch 31: Train Loss: 1.6182, Train Accuracy: 0.3797, Validation Loss: 1.6406, Validation Accuracy: 0.3733\n"
     ]
    },
    {
     "name": "stderr",
     "output_type": "stream",
     "text": [
      "Epoch 32 Training: 100%|██████████| 625/625 [00:01<00:00, 319.58it/s]\n",
      "Epoch 32 Validation: 100%|██████████| 313/313 [00:00<00:00, 834.29it/s]\n"
     ]
    },
    {
     "name": "stdout",
     "output_type": "stream",
     "text": [
      "Epoch 32: Train Loss: 1.6126, Train Accuracy: 0.3816, Validation Loss: 1.6354, Validation Accuracy: 0.3748\n"
     ]
    },
    {
     "name": "stderr",
     "output_type": "stream",
     "text": [
      "Epoch 33 Training: 100%|██████████| 625/625 [00:01<00:00, 322.45it/s]\n",
      "Epoch 33 Validation: 100%|██████████| 313/313 [00:00<00:00, 734.34it/s]\n"
     ]
    },
    {
     "name": "stdout",
     "output_type": "stream",
     "text": [
      "Epoch 33: Train Loss: 1.6062, Train Accuracy: 0.3842, Validation Loss: 1.6278, Validation Accuracy: 0.3786\n"
     ]
    },
    {
     "name": "stderr",
     "output_type": "stream",
     "text": [
      "Epoch 34 Training: 100%|██████████| 625/625 [00:02<00:00, 311.48it/s]\n",
      "Epoch 34 Validation: 100%|██████████| 313/313 [00:00<00:00, 816.80it/s]\n"
     ]
    },
    {
     "name": "stdout",
     "output_type": "stream",
     "text": [
      "Epoch 34: Train Loss: 1.6025, Train Accuracy: 0.3856, Validation Loss: 1.6218, Validation Accuracy: 0.3811\n"
     ]
    },
    {
     "name": "stderr",
     "output_type": "stream",
     "text": [
      "Epoch 35 Training: 100%|██████████| 625/625 [00:01<00:00, 328.14it/s]\n",
      "Epoch 35 Validation: 100%|██████████| 313/313 [00:00<00:00, 837.67it/s]\n"
     ]
    },
    {
     "name": "stdout",
     "output_type": "stream",
     "text": [
      "Epoch 35: Train Loss: 1.5975, Train Accuracy: 0.3878, Validation Loss: 1.6148, Validation Accuracy: 0.3839\n"
     ]
    },
    {
     "name": "stderr",
     "output_type": "stream",
     "text": [
      "Epoch 36 Training: 100%|██████████| 625/625 [00:01<00:00, 318.24it/s]\n",
      "Epoch 36 Validation: 100%|██████████| 313/313 [00:00<00:00, 848.34it/s]\n"
     ]
    },
    {
     "name": "stdout",
     "output_type": "stream",
     "text": [
      "Epoch 36: Train Loss: 1.5926, Train Accuracy: 0.3894, Validation Loss: 1.6091, Validation Accuracy: 0.3868\n"
     ]
    },
    {
     "name": "stderr",
     "output_type": "stream",
     "text": [
      "Epoch 37 Training: 100%|██████████| 625/625 [00:01<00:00, 328.14it/s]\n",
      "Epoch 37 Validation: 100%|██████████| 313/313 [00:00<00:00, 846.84it/s]\n"
     ]
    },
    {
     "name": "stdout",
     "output_type": "stream",
     "text": [
      "Epoch 37: Train Loss: 1.5872, Train Accuracy: 0.3918, Validation Loss: 1.6024, Validation Accuracy: 0.3899\n"
     ]
    },
    {
     "name": "stderr",
     "output_type": "stream",
     "text": [
      "Epoch 38 Training: 100%|██████████| 625/625 [00:01<00:00, 325.21it/s]\n",
      "Epoch 38 Validation: 100%|██████████| 313/313 [00:00<00:00, 821.74it/s]\n"
     ]
    },
    {
     "name": "stdout",
     "output_type": "stream",
     "text": [
      "Epoch 38: Train Loss: 1.5823, Train Accuracy: 0.3941, Validation Loss: 1.5968, Validation Accuracy: 0.3931\n"
     ]
    },
    {
     "name": "stderr",
     "output_type": "stream",
     "text": [
      "Epoch 39 Training: 100%|██████████| 625/625 [00:01<00:00, 323.58it/s]\n",
      "Epoch 39 Validation: 100%|██████████| 313/313 [00:00<00:00, 840.17it/s]\n"
     ]
    },
    {
     "name": "stdout",
     "output_type": "stream",
     "text": [
      "Epoch 39: Train Loss: 1.5778, Train Accuracy: 0.3955, Validation Loss: 1.5901, Validation Accuracy: 0.3963\n"
     ]
    },
    {
     "name": "stderr",
     "output_type": "stream",
     "text": [
      "Epoch 40 Training: 100%|██████████| 625/625 [00:01<00:00, 314.50it/s]\n",
      "Epoch 40 Validation: 100%|██████████| 313/313 [00:00<00:00, 826.17it/s]\n"
     ]
    },
    {
     "name": "stdout",
     "output_type": "stream",
     "text": [
      "Epoch 40: Train Loss: 1.5736, Train Accuracy: 0.3969, Validation Loss: 1.5835, Validation Accuracy: 0.3989\n"
     ]
    },
    {
     "name": "stderr",
     "output_type": "stream",
     "text": [
      "Epoch 41 Training: 100%|██████████| 625/625 [00:01<00:00, 323.36it/s]\n",
      "Epoch 41 Validation: 100%|██████████| 313/313 [00:00<00:00, 821.06it/s]\n"
     ]
    },
    {
     "name": "stdout",
     "output_type": "stream",
     "text": [
      "Epoch 41: Train Loss: 1.5700, Train Accuracy: 0.3985, Validation Loss: 1.5793, Validation Accuracy: 0.4008\n"
     ]
    },
    {
     "name": "stderr",
     "output_type": "stream",
     "text": [
      "Epoch 42 Training: 100%|██████████| 625/625 [00:01<00:00, 320.53it/s]\n",
      "Epoch 42 Validation: 100%|██████████| 313/313 [00:00<00:00, 855.09it/s]\n"
     ]
    },
    {
     "name": "stdout",
     "output_type": "stream",
     "text": [
      "Epoch 42: Train Loss: 1.5653, Train Accuracy: 0.4003, Validation Loss: 1.5731, Validation Accuracy: 0.4035\n"
     ]
    },
    {
     "name": "stderr",
     "output_type": "stream",
     "text": [
      "Epoch 43 Training: 100%|██████████| 625/625 [00:01<00:00, 315.57it/s]\n",
      "Epoch 43 Validation: 100%|██████████| 313/313 [00:00<00:00, 830.41it/s]\n"
     ]
    },
    {
     "name": "stdout",
     "output_type": "stream",
     "text": [
      "Epoch 43: Train Loss: 1.5606, Train Accuracy: 0.4021, Validation Loss: 1.5686, Validation Accuracy: 0.4054\n"
     ]
    },
    {
     "name": "stderr",
     "output_type": "stream",
     "text": [
      "Epoch 44 Training: 100%|██████████| 625/625 [00:01<00:00, 323.72it/s]\n",
      "Epoch 44 Validation: 100%|██████████| 313/313 [00:00<00:00, 803.59it/s]\n"
     ]
    },
    {
     "name": "stdout",
     "output_type": "stream",
     "text": [
      "Epoch 44: Train Loss: 1.5587, Train Accuracy: 0.4030, Validation Loss: 1.5637, Validation Accuracy: 0.4072\n"
     ]
    },
    {
     "name": "stderr",
     "output_type": "stream",
     "text": [
      "Epoch 45 Training: 100%|██████████| 625/625 [00:01<00:00, 324.11it/s]\n",
      "Epoch 45 Validation: 100%|██████████| 313/313 [00:00<00:00, 848.47it/s]\n"
     ]
    },
    {
     "name": "stdout",
     "output_type": "stream",
     "text": [
      "Epoch 45: Train Loss: 1.5546, Train Accuracy: 0.4048, Validation Loss: 1.5595, Validation Accuracy: 0.4097\n"
     ]
    },
    {
     "name": "stderr",
     "output_type": "stream",
     "text": [
      "Epoch 46 Training: 100%|██████████| 625/625 [00:01<00:00, 323.13it/s]\n",
      "Epoch 46 Validation: 100%|██████████| 313/313 [00:00<00:00, 846.20it/s]\n"
     ]
    },
    {
     "name": "stdout",
     "output_type": "stream",
     "text": [
      "Epoch 46: Train Loss: 1.5495, Train Accuracy: 0.4065, Validation Loss: 1.5550, Validation Accuracy: 0.4107\n"
     ]
    },
    {
     "name": "stderr",
     "output_type": "stream",
     "text": [
      "Epoch 47 Training: 100%|██████████| 625/625 [00:02<00:00, 307.05it/s]\n",
      "Epoch 47 Validation: 100%|██████████| 313/313 [00:00<00:00, 841.02it/s]\n"
     ]
    },
    {
     "name": "stdout",
     "output_type": "stream",
     "text": [
      "Epoch 47: Train Loss: 1.5470, Train Accuracy: 0.4074, Validation Loss: 1.5492, Validation Accuracy: 0.4133\n"
     ]
    },
    {
     "name": "stderr",
     "output_type": "stream",
     "text": [
      "Epoch 48 Training: 100%|██████████| 625/625 [00:01<00:00, 319.27it/s]\n",
      "Epoch 48 Validation: 100%|██████████| 313/313 [00:00<00:00, 828.25it/s]\n"
     ]
    },
    {
     "name": "stdout",
     "output_type": "stream",
     "text": [
      "Epoch 48: Train Loss: 1.5444, Train Accuracy: 0.4085, Validation Loss: 1.5453, Validation Accuracy: 0.4157\n"
     ]
    },
    {
     "name": "stderr",
     "output_type": "stream",
     "text": [
      "Epoch 49 Training: 100%|██████████| 625/625 [00:01<00:00, 315.15it/s]\n",
      "Epoch 49 Validation: 100%|██████████| 313/313 [00:00<00:00, 855.98it/s]\n"
     ]
    },
    {
     "name": "stdout",
     "output_type": "stream",
     "text": [
      "Epoch 49: Train Loss: 1.5396, Train Accuracy: 0.4103, Validation Loss: 1.5386, Validation Accuracy: 0.4197\n"
     ]
    },
    {
     "name": "stderr",
     "output_type": "stream",
     "text": [
      "Epoch 50 Training: 100%|██████████| 625/625 [00:01<00:00, 322.65it/s]\n",
      "Epoch 50 Validation: 100%|██████████| 313/313 [00:00<00:00, 856.89it/s]\n"
     ]
    },
    {
     "name": "stdout",
     "output_type": "stream",
     "text": [
      "Epoch 50: Train Loss: 1.5382, Train Accuracy: 0.4107, Validation Loss: 1.5364, Validation Accuracy: 0.4197\n"
     ]
    },
    {
     "name": "stderr",
     "output_type": "stream",
     "text": [
      "Epoch 51 Training: 100%|██████████| 625/625 [00:01<00:00, 320.20it/s]\n",
      "Epoch 51 Validation: 100%|██████████| 313/313 [00:00<00:00, 856.49it/s]\n"
     ]
    },
    {
     "name": "stdout",
     "output_type": "stream",
     "text": [
      "Epoch 51: Train Loss: 1.5334, Train Accuracy: 0.4125, Validation Loss: 1.5318, Validation Accuracy: 0.4221\n"
     ]
    },
    {
     "name": "stderr",
     "output_type": "stream",
     "text": [
      "Epoch 52 Training: 100%|██████████| 625/625 [00:01<00:00, 323.53it/s]\n",
      "Epoch 52 Validation: 100%|██████████| 313/313 [00:00<00:00, 846.70it/s]\n"
     ]
    },
    {
     "name": "stdout",
     "output_type": "stream",
     "text": [
      "Epoch 52: Train Loss: 1.5316, Train Accuracy: 0.4131, Validation Loss: 1.5289, Validation Accuracy: 0.4233\n"
     ]
    },
    {
     "name": "stderr",
     "output_type": "stream",
     "text": [
      "Epoch 53 Training: 100%|██████████| 625/625 [00:01<00:00, 317.77it/s]\n",
      "Epoch 53 Validation: 100%|██████████| 313/313 [00:00<00:00, 838.14it/s]\n"
     ]
    },
    {
     "name": "stdout",
     "output_type": "stream",
     "text": [
      "Epoch 53: Train Loss: 1.5284, Train Accuracy: 0.4148, Validation Loss: 1.5239, Validation Accuracy: 0.4252\n"
     ]
    },
    {
     "name": "stderr",
     "output_type": "stream",
     "text": [
      "Epoch 54 Training: 100%|██████████| 625/625 [00:01<00:00, 322.85it/s]\n",
      "Epoch 54 Validation: 100%|██████████| 313/313 [00:00<00:00, 876.44it/s]\n"
     ]
    },
    {
     "name": "stdout",
     "output_type": "stream",
     "text": [
      "Epoch 54: Train Loss: 1.5224, Train Accuracy: 0.4171, Validation Loss: 1.5182, Validation Accuracy: 0.4281\n"
     ]
    },
    {
     "name": "stderr",
     "output_type": "stream",
     "text": [
      "Epoch 55 Training: 100%|██████████| 625/625 [00:01<00:00, 323.37it/s]\n",
      "Epoch 55 Validation: 100%|██████████| 313/313 [00:00<00:00, 804.15it/s]\n"
     ]
    },
    {
     "name": "stdout",
     "output_type": "stream",
     "text": [
      "Epoch 55: Train Loss: 1.5226, Train Accuracy: 0.4168, Validation Loss: 1.5153, Validation Accuracy: 0.4293\n"
     ]
    },
    {
     "name": "stderr",
     "output_type": "stream",
     "text": [
      "Epoch 56 Training: 100%|██████████| 625/625 [00:01<00:00, 319.38it/s]\n",
      "Epoch 56 Validation: 100%|██████████| 313/313 [00:00<00:00, 823.97it/s]\n"
     ]
    },
    {
     "name": "stdout",
     "output_type": "stream",
     "text": [
      "Epoch 56: Train Loss: 1.5185, Train Accuracy: 0.4182, Validation Loss: 1.5119, Validation Accuracy: 0.4302\n"
     ]
    },
    {
     "name": "stderr",
     "output_type": "stream",
     "text": [
      "Epoch 57 Training: 100%|██████████| 625/625 [00:02<00:00, 297.17it/s]\n",
      "Epoch 57 Validation: 100%|██████████| 313/313 [00:00<00:00, 832.34it/s]\n"
     ]
    },
    {
     "name": "stdout",
     "output_type": "stream",
     "text": [
      "Epoch 57: Train Loss: 1.5158, Train Accuracy: 0.4192, Validation Loss: 1.5084, Validation Accuracy: 0.4323\n"
     ]
    },
    {
     "name": "stderr",
     "output_type": "stream",
     "text": [
      "Epoch 58 Training: 100%|██████████| 625/625 [00:02<00:00, 305.58it/s]\n",
      "Epoch 58 Validation: 100%|██████████| 313/313 [00:00<00:00, 681.67it/s]\n"
     ]
    },
    {
     "name": "stdout",
     "output_type": "stream",
     "text": [
      "Epoch 58: Train Loss: 1.5130, Train Accuracy: 0.4211, Validation Loss: 1.5046, Validation Accuracy: 0.4341\n"
     ]
    },
    {
     "name": "stderr",
     "output_type": "stream",
     "text": [
      "Epoch 59 Training: 100%|██████████| 625/625 [00:02<00:00, 304.18it/s]\n",
      "Epoch 59 Validation: 100%|██████████| 313/313 [00:00<00:00, 859.25it/s]\n"
     ]
    },
    {
     "name": "stdout",
     "output_type": "stream",
     "text": [
      "Epoch 59: Train Loss: 1.5096, Train Accuracy: 0.4218, Validation Loss: 1.5023, Validation Accuracy: 0.4347\n"
     ]
    },
    {
     "name": "stderr",
     "output_type": "stream",
     "text": [
      "Epoch 60 Training: 100%|██████████| 625/625 [00:02<00:00, 303.86it/s]\n",
      "Epoch 60 Validation: 100%|██████████| 313/313 [00:00<00:00, 815.46it/s]\n"
     ]
    },
    {
     "name": "stdout",
     "output_type": "stream",
     "text": [
      "Epoch 60: Train Loss: 1.5085, Train Accuracy: 0.4225, Validation Loss: 1.4981, Validation Accuracy: 0.4368\n"
     ]
    },
    {
     "name": "stderr",
     "output_type": "stream",
     "text": [
      "Epoch 61 Training: 100%|██████████| 625/625 [00:01<00:00, 317.91it/s]\n",
      "Epoch 61 Validation: 100%|██████████| 313/313 [00:00<00:00, 848.86it/s]\n"
     ]
    },
    {
     "name": "stdout",
     "output_type": "stream",
     "text": [
      "Epoch 61: Train Loss: 1.5035, Train Accuracy: 0.4247, Validation Loss: 1.4957, Validation Accuracy: 0.4379\n"
     ]
    },
    {
     "name": "stderr",
     "output_type": "stream",
     "text": [
      "Epoch 62 Training: 100%|██████████| 625/625 [00:01<00:00, 325.76it/s]\n",
      "Epoch 62 Validation: 100%|██████████| 313/313 [00:00<00:00, 838.30it/s]\n"
     ]
    },
    {
     "name": "stdout",
     "output_type": "stream",
     "text": [
      "Epoch 62: Train Loss: 1.5019, Train Accuracy: 0.4247, Validation Loss: 1.4916, Validation Accuracy: 0.4403\n"
     ]
    },
    {
     "name": "stderr",
     "output_type": "stream",
     "text": [
      "Epoch 63 Training: 100%|██████████| 625/625 [00:01<00:00, 324.00it/s]\n",
      "Epoch 63 Validation: 100%|██████████| 313/313 [00:00<00:00, 857.75it/s]\n"
     ]
    },
    {
     "name": "stdout",
     "output_type": "stream",
     "text": [
      "Epoch 63: Train Loss: 1.5006, Train Accuracy: 0.4255, Validation Loss: 1.4882, Validation Accuracy: 0.4407\n"
     ]
    },
    {
     "name": "stderr",
     "output_type": "stream",
     "text": [
      "Epoch 64 Training: 100%|██████████| 625/625 [00:01<00:00, 313.43it/s]\n",
      "Epoch 64 Validation: 100%|██████████| 313/313 [00:00<00:00, 830.16it/s]\n"
     ]
    },
    {
     "name": "stdout",
     "output_type": "stream",
     "text": [
      "Epoch 64: Train Loss: 1.4970, Train Accuracy: 0.4269, Validation Loss: 1.4857, Validation Accuracy: 0.4432\n"
     ]
    },
    {
     "name": "stderr",
     "output_type": "stream",
     "text": [
      "Epoch 65 Training: 100%|██████████| 625/625 [00:01<00:00, 315.53it/s]\n",
      "Epoch 65 Validation: 100%|██████████| 313/313 [00:00<00:00, 820.54it/s]\n"
     ]
    },
    {
     "name": "stdout",
     "output_type": "stream",
     "text": [
      "Epoch 65: Train Loss: 1.4954, Train Accuracy: 0.4275, Validation Loss: 1.4823, Validation Accuracy: 0.4444\n"
     ]
    },
    {
     "name": "stderr",
     "output_type": "stream",
     "text": [
      "Epoch 66 Training: 100%|██████████| 625/625 [00:01<00:00, 314.78it/s]\n",
      "Epoch 66 Validation: 100%|██████████| 313/313 [00:00<00:00, 851.83it/s]\n"
     ]
    },
    {
     "name": "stdout",
     "output_type": "stream",
     "text": [
      "Epoch 66: Train Loss: 1.4927, Train Accuracy: 0.4284, Validation Loss: 1.4772, Validation Accuracy: 0.4477\n"
     ]
    },
    {
     "name": "stderr",
     "output_type": "stream",
     "text": [
      "Epoch 67 Training: 100%|██████████| 625/625 [00:01<00:00, 323.32it/s]\n",
      "Epoch 67 Validation: 100%|██████████| 313/313 [00:00<00:00, 842.33it/s]\n"
     ]
    },
    {
     "name": "stdout",
     "output_type": "stream",
     "text": [
      "Epoch 67: Train Loss: 1.4893, Train Accuracy: 0.4298, Validation Loss: 1.4758, Validation Accuracy: 0.4464\n"
     ]
    },
    {
     "name": "stderr",
     "output_type": "stream",
     "text": [
      "Epoch 68 Training: 100%|██████████| 625/625 [00:01<00:00, 327.84it/s]\n",
      "Epoch 68 Validation: 100%|██████████| 313/313 [00:00<00:00, 835.94it/s]\n"
     ]
    },
    {
     "name": "stdout",
     "output_type": "stream",
     "text": [
      "Epoch 68: Train Loss: 1.4893, Train Accuracy: 0.4301, Validation Loss: 1.4720, Validation Accuracy: 0.4488\n"
     ]
    },
    {
     "name": "stderr",
     "output_type": "stream",
     "text": [
      "Epoch 69 Training: 100%|██████████| 625/625 [00:01<00:00, 317.91it/s]\n",
      "Epoch 69 Validation: 100%|██████████| 313/313 [00:00<00:00, 836.63it/s]\n"
     ]
    },
    {
     "name": "stdout",
     "output_type": "stream",
     "text": [
      "Epoch 69: Train Loss: 1.4863, Train Accuracy: 0.4311, Validation Loss: 1.4713, Validation Accuracy: 0.4489\n"
     ]
    },
    {
     "name": "stderr",
     "output_type": "stream",
     "text": [
      "Epoch 70 Training: 100%|██████████| 625/625 [00:01<00:00, 318.58it/s]\n",
      "Epoch 70 Validation: 100%|██████████| 313/313 [00:00<00:00, 825.38it/s]\n"
     ]
    },
    {
     "name": "stdout",
     "output_type": "stream",
     "text": [
      "Epoch 70: Train Loss: 1.4849, Train Accuracy: 0.4313, Validation Loss: 1.4690, Validation Accuracy: 0.4504\n"
     ]
    },
    {
     "name": "stderr",
     "output_type": "stream",
     "text": [
      "Epoch 71 Training: 100%|██████████| 625/625 [00:01<00:00, 324.14it/s]\n",
      "Epoch 71 Validation: 100%|██████████| 313/313 [00:00<00:00, 825.55it/s]\n"
     ]
    },
    {
     "name": "stdout",
     "output_type": "stream",
     "text": [
      "Epoch 71: Train Loss: 1.4819, Train Accuracy: 0.4330, Validation Loss: 1.4649, Validation Accuracy: 0.4529\n"
     ]
    },
    {
     "name": "stderr",
     "output_type": "stream",
     "text": [
      "Epoch 72 Training: 100%|██████████| 625/625 [00:01<00:00, 327.49it/s]\n",
      "Epoch 72 Validation: 100%|██████████| 313/313 [00:00<00:00, 870.20it/s]\n"
     ]
    },
    {
     "name": "stdout",
     "output_type": "stream",
     "text": [
      "Epoch 72: Train Loss: 1.4784, Train Accuracy: 0.4339, Validation Loss: 1.4630, Validation Accuracy: 0.4530\n"
     ]
    },
    {
     "name": "stderr",
     "output_type": "stream",
     "text": [
      "Epoch 73 Training: 100%|██████████| 625/625 [00:01<00:00, 323.37it/s]\n",
      "Epoch 73 Validation: 100%|██████████| 313/313 [00:00<00:00, 791.28it/s]\n"
     ]
    },
    {
     "name": "stdout",
     "output_type": "stream",
     "text": [
      "Epoch 73: Train Loss: 1.4786, Train Accuracy: 0.4338, Validation Loss: 1.4603, Validation Accuracy: 0.4537\n"
     ]
    },
    {
     "name": "stderr",
     "output_type": "stream",
     "text": [
      "Epoch 74 Training: 100%|██████████| 625/625 [00:02<00:00, 309.87it/s]\n",
      "Epoch 74 Validation: 100%|██████████| 313/313 [00:00<00:00, 814.00it/s]\n"
     ]
    },
    {
     "name": "stdout",
     "output_type": "stream",
     "text": [
      "Epoch 74: Train Loss: 1.4761, Train Accuracy: 0.4352, Validation Loss: 1.4565, Validation Accuracy: 0.4564\n"
     ]
    },
    {
     "name": "stderr",
     "output_type": "stream",
     "text": [
      "Epoch 75 Training: 100%|██████████| 625/625 [00:01<00:00, 324.54it/s]\n",
      "Epoch 75 Validation: 100%|██████████| 313/313 [00:00<00:00, 860.45it/s]\n"
     ]
    },
    {
     "name": "stdout",
     "output_type": "stream",
     "text": [
      "Epoch 75: Train Loss: 1.4741, Train Accuracy: 0.4359, Validation Loss: 1.4552, Validation Accuracy: 0.4555\n"
     ]
    },
    {
     "name": "stderr",
     "output_type": "stream",
     "text": [
      "Epoch 76 Training: 100%|██████████| 625/625 [00:01<00:00, 325.33it/s]\n",
      "Epoch 76 Validation: 100%|██████████| 313/313 [00:00<00:00, 817.03it/s]\n"
     ]
    },
    {
     "name": "stdout",
     "output_type": "stream",
     "text": [
      "Epoch 76: Train Loss: 1.4724, Train Accuracy: 0.4363, Validation Loss: 1.4520, Validation Accuracy: 0.4584\n"
     ]
    },
    {
     "name": "stderr",
     "output_type": "stream",
     "text": [
      "Epoch 77 Training: 100%|██████████| 625/625 [00:01<00:00, 316.64it/s]\n",
      "Epoch 77 Validation: 100%|██████████| 313/313 [00:00<00:00, 834.82it/s]\n"
     ]
    },
    {
     "name": "stdout",
     "output_type": "stream",
     "text": [
      "Epoch 77: Train Loss: 1.4680, Train Accuracy: 0.4383, Validation Loss: 1.4514, Validation Accuracy: 0.4575\n"
     ]
    },
    {
     "name": "stderr",
     "output_type": "stream",
     "text": [
      "Epoch 78 Training: 100%|██████████| 625/625 [00:01<00:00, 312.91it/s]\n",
      "Epoch 78 Validation: 100%|██████████| 313/313 [00:00<00:00, 781.24it/s]\n"
     ]
    },
    {
     "name": "stdout",
     "output_type": "stream",
     "text": [
      "Epoch 78: Train Loss: 1.4674, Train Accuracy: 0.4383, Validation Loss: 1.4476, Validation Accuracy: 0.4598\n"
     ]
    },
    {
     "name": "stderr",
     "output_type": "stream",
     "text": [
      "Epoch 79 Training: 100%|██████████| 625/625 [00:01<00:00, 318.37it/s]\n",
      "Epoch 79 Validation: 100%|██████████| 313/313 [00:00<00:00, 846.72it/s]\n"
     ]
    },
    {
     "name": "stdout",
     "output_type": "stream",
     "text": [
      "Epoch 79: Train Loss: 1.4657, Train Accuracy: 0.4392, Validation Loss: 1.4451, Validation Accuracy: 0.4618\n"
     ]
    },
    {
     "name": "stderr",
     "output_type": "stream",
     "text": [
      "Epoch 80 Training: 100%|██████████| 625/625 [00:01<00:00, 317.21it/s]\n",
      "Epoch 80 Validation: 100%|██████████| 313/313 [00:00<00:00, 865.58it/s]\n"
     ]
    },
    {
     "name": "stdout",
     "output_type": "stream",
     "text": [
      "Epoch 80: Train Loss: 1.4640, Train Accuracy: 0.4398, Validation Loss: 1.4436, Validation Accuracy: 0.4619\n"
     ]
    },
    {
     "name": "stderr",
     "output_type": "stream",
     "text": [
      "Epoch 81 Training: 100%|██████████| 625/625 [00:01<00:00, 324.02it/s]\n",
      "Epoch 81 Validation: 100%|██████████| 313/313 [00:00<00:00, 834.38it/s]\n"
     ]
    },
    {
     "name": "stdout",
     "output_type": "stream",
     "text": [
      "Epoch 81: Train Loss: 1.4630, Train Accuracy: 0.4402, Validation Loss: 1.4418, Validation Accuracy: 0.4631\n"
     ]
    },
    {
     "name": "stderr",
     "output_type": "stream",
     "text": [
      "Epoch 82 Training: 100%|██████████| 625/625 [00:01<00:00, 315.47it/s]\n",
      "Epoch 82 Validation: 100%|██████████| 313/313 [00:00<00:00, 838.84it/s]\n"
     ]
    },
    {
     "name": "stdout",
     "output_type": "stream",
     "text": [
      "Epoch 82: Train Loss: 1.4618, Train Accuracy: 0.4403, Validation Loss: 1.4403, Validation Accuracy: 0.4628\n"
     ]
    },
    {
     "name": "stderr",
     "output_type": "stream",
     "text": [
      "Epoch 83 Training: 100%|██████████| 625/625 [00:01<00:00, 314.15it/s]\n",
      "Epoch 83 Validation: 100%|██████████| 313/313 [00:00<00:00, 842.88it/s]\n"
     ]
    },
    {
     "name": "stdout",
     "output_type": "stream",
     "text": [
      "Epoch 83: Train Loss: 1.4590, Train Accuracy: 0.4419, Validation Loss: 1.4379, Validation Accuracy: 0.4641\n"
     ]
    },
    {
     "name": "stderr",
     "output_type": "stream",
     "text": [
      "Epoch 84 Training: 100%|██████████| 625/625 [00:01<00:00, 322.05it/s]\n",
      "Epoch 84 Validation: 100%|██████████| 313/313 [00:00<00:00, 839.74it/s]\n"
     ]
    },
    {
     "name": "stdout",
     "output_type": "stream",
     "text": [
      "Epoch 84: Train Loss: 1.4572, Train Accuracy: 0.4428, Validation Loss: 1.4348, Validation Accuracy: 0.4662\n"
     ]
    },
    {
     "name": "stderr",
     "output_type": "stream",
     "text": [
      "Epoch 85 Training: 100%|██████████| 625/625 [00:01<00:00, 323.66it/s]\n",
      "Epoch 85 Validation: 100%|██████████| 313/313 [00:00<00:00, 831.96it/s]\n"
     ]
    },
    {
     "name": "stdout",
     "output_type": "stream",
     "text": [
      "Epoch 85: Train Loss: 1.4564, Train Accuracy: 0.4428, Validation Loss: 1.4351, Validation Accuracy: 0.4655\n"
     ]
    },
    {
     "name": "stderr",
     "output_type": "stream",
     "text": [
      "Epoch 86 Training: 100%|██████████| 625/625 [00:01<00:00, 324.19it/s]\n",
      "Epoch 86 Validation: 100%|██████████| 313/313 [00:00<00:00, 839.84it/s]\n"
     ]
    },
    {
     "name": "stdout",
     "output_type": "stream",
     "text": [
      "Epoch 86: Train Loss: 1.4548, Train Accuracy: 0.4433, Validation Loss: 1.4290, Validation Accuracy: 0.4695\n"
     ]
    },
    {
     "name": "stderr",
     "output_type": "stream",
     "text": [
      "Epoch 87 Training: 100%|██████████| 625/625 [00:02<00:00, 299.46it/s]\n",
      "Epoch 87 Validation: 100%|██████████| 313/313 [00:00<00:00, 822.09it/s]\n"
     ]
    },
    {
     "name": "stdout",
     "output_type": "stream",
     "text": [
      "Epoch 87: Train Loss: 1.4521, Train Accuracy: 0.4448, Validation Loss: 1.4287, Validation Accuracy: 0.4695\n"
     ]
    },
    {
     "name": "stderr",
     "output_type": "stream",
     "text": [
      "Epoch 88 Training: 100%|██████████| 625/625 [00:01<00:00, 322.93it/s]\n",
      "Epoch 88 Validation: 100%|██████████| 313/313 [00:00<00:00, 825.52it/s]\n"
     ]
    },
    {
     "name": "stdout",
     "output_type": "stream",
     "text": [
      "Epoch 88: Train Loss: 1.4509, Train Accuracy: 0.4448, Validation Loss: 1.4258, Validation Accuracy: 0.4707\n"
     ]
    },
    {
     "name": "stderr",
     "output_type": "stream",
     "text": [
      "Epoch 89 Training: 100%|██████████| 625/625 [00:01<00:00, 323.98it/s]\n",
      "Epoch 89 Validation: 100%|██████████| 313/313 [00:00<00:00, 839.46it/s]\n"
     ]
    },
    {
     "name": "stdout",
     "output_type": "stream",
     "text": [
      "Epoch 89: Train Loss: 1.4502, Train Accuracy: 0.4453, Validation Loss: 1.4256, Validation Accuracy: 0.4703\n"
     ]
    },
    {
     "name": "stderr",
     "output_type": "stream",
     "text": [
      "Epoch 90 Training: 100%|██████████| 625/625 [00:01<00:00, 322.63it/s]\n",
      "Epoch 90 Validation: 100%|██████████| 313/313 [00:00<00:00, 842.00it/s]\n"
     ]
    },
    {
     "name": "stdout",
     "output_type": "stream",
     "text": [
      "Epoch 90: Train Loss: 1.4481, Train Accuracy: 0.4464, Validation Loss: 1.4225, Validation Accuracy: 0.4724\n"
     ]
    },
    {
     "name": "stderr",
     "output_type": "stream",
     "text": [
      "Epoch 91 Training: 100%|██████████| 625/625 [00:01<00:00, 315.76it/s]\n",
      "Epoch 91 Validation: 100%|██████████| 313/313 [00:00<00:00, 816.52it/s]\n"
     ]
    },
    {
     "name": "stdout",
     "output_type": "stream",
     "text": [
      "Epoch 91: Train Loss: 1.4469, Train Accuracy: 0.4466, Validation Loss: 1.4216, Validation Accuracy: 0.4732\n"
     ]
    },
    {
     "name": "stderr",
     "output_type": "stream",
     "text": [
      "Epoch 92 Training: 100%|██████████| 625/625 [00:01<00:00, 320.45it/s]\n",
      "Epoch 92 Validation: 100%|██████████| 313/313 [00:00<00:00, 849.30it/s]\n"
     ]
    },
    {
     "name": "stdout",
     "output_type": "stream",
     "text": [
      "Epoch 92: Train Loss: 1.4455, Train Accuracy: 0.4474, Validation Loss: 1.4189, Validation Accuracy: 0.4744\n"
     ]
    },
    {
     "name": "stderr",
     "output_type": "stream",
     "text": [
      "Epoch 93 Training: 100%|██████████| 625/625 [00:01<00:00, 316.39it/s]\n",
      "Epoch 93 Validation: 100%|██████████| 313/313 [00:00<00:00, 832.01it/s]\n"
     ]
    },
    {
     "name": "stdout",
     "output_type": "stream",
     "text": [
      "Epoch 93: Train Loss: 1.4437, Train Accuracy: 0.4482, Validation Loss: 1.4162, Validation Accuracy: 0.4753\n"
     ]
    },
    {
     "name": "stderr",
     "output_type": "stream",
     "text": [
      "Epoch 94 Training: 100%|██████████| 625/625 [00:01<00:00, 320.75it/s]\n",
      "Epoch 94 Validation: 100%|██████████| 313/313 [00:00<00:00, 835.85it/s]\n"
     ]
    },
    {
     "name": "stdout",
     "output_type": "stream",
     "text": [
      "Epoch 94: Train Loss: 1.4419, Train Accuracy: 0.4484, Validation Loss: 1.4167, Validation Accuracy: 0.4745\n"
     ]
    },
    {
     "name": "stderr",
     "output_type": "stream",
     "text": [
      "Epoch 95 Training: 100%|██████████| 625/625 [00:01<00:00, 313.76it/s]\n",
      "Epoch 95 Validation: 100%|██████████| 313/313 [00:00<00:00, 785.02it/s]\n"
     ]
    },
    {
     "name": "stdout",
     "output_type": "stream",
     "text": [
      "Epoch 95: Train Loss: 1.4410, Train Accuracy: 0.4491, Validation Loss: 1.4138, Validation Accuracy: 0.4759\n"
     ]
    },
    {
     "name": "stderr",
     "output_type": "stream",
     "text": [
      "Epoch 96 Training: 100%|██████████| 625/625 [00:01<00:00, 317.88it/s]\n",
      "Epoch 96 Validation: 100%|██████████| 313/313 [00:00<00:00, 848.97it/s]\n"
     ]
    },
    {
     "name": "stdout",
     "output_type": "stream",
     "text": [
      "Epoch 96: Train Loss: 1.4396, Train Accuracy: 0.4499, Validation Loss: 1.4122, Validation Accuracy: 0.4763\n"
     ]
    },
    {
     "name": "stderr",
     "output_type": "stream",
     "text": [
      "Epoch 97 Training: 100%|██████████| 625/625 [00:01<00:00, 322.85it/s]\n",
      "Epoch 97 Validation: 100%|██████████| 313/313 [00:00<00:00, 830.81it/s]\n"
     ]
    },
    {
     "name": "stdout",
     "output_type": "stream",
     "text": [
      "Epoch 97: Train Loss: 1.4366, Train Accuracy: 0.4507, Validation Loss: 1.4103, Validation Accuracy: 0.4779\n"
     ]
    },
    {
     "name": "stderr",
     "output_type": "stream",
     "text": [
      "Epoch 98 Training: 100%|██████████| 625/625 [00:01<00:00, 318.51it/s]\n",
      "Epoch 98 Validation: 100%|██████████| 313/313 [00:00<00:00, 834.44it/s]\n"
     ]
    },
    {
     "name": "stdout",
     "output_type": "stream",
     "text": [
      "Epoch 98: Train Loss: 1.4348, Train Accuracy: 0.4513, Validation Loss: 1.4071, Validation Accuracy: 0.4796\n"
     ]
    },
    {
     "name": "stderr",
     "output_type": "stream",
     "text": [
      "Epoch 99 Training: 100%|██████████| 625/625 [00:01<00:00, 321.11it/s]\n",
      "Epoch 99 Validation: 100%|██████████| 313/313 [00:00<00:00, 864.74it/s]\n"
     ]
    },
    {
     "name": "stdout",
     "output_type": "stream",
     "text": [
      "Epoch 99: Train Loss: 1.4337, Train Accuracy: 0.4518, Validation Loss: 1.4055, Validation Accuracy: 0.4798\n"
     ]
    },
    {
     "name": "stderr",
     "output_type": "stream",
     "text": [
      "Epoch 100 Training: 100%|██████████| 625/625 [00:02<00:00, 307.89it/s]\n",
      "Epoch 100 Validation: 100%|██████████| 313/313 [00:00<00:00, 807.71it/s]\n"
     ]
    },
    {
     "name": "stdout",
     "output_type": "stream",
     "text": [
      "Epoch 100: Train Loss: 1.4342, Train Accuracy: 0.4514, Validation Loss: 1.4064, Validation Accuracy: 0.4786\n"
     ]
    },
    {
     "data": {
      "image/png": "[encoded data removed]",
      "text/plain": [
       "<Figure size 1000x500 with 2 Axes>"
      ]
     },
     "metadata": {},
     "output_type": "display_data"
    }
   ],
   "source": [
    "# Optimizer\n",
    "optimizer = optim.Adam(model.parameters(), lr=0.001)\n",
    "train_loader = DataLoader(train_set, batch_size=64, shuffle=True)\n",
    "test_loader = DataLoader(val_set, batch_size=32, shuffle=False)\n",
    "\n",
    "train_model(model, train_loader, test_loader, 100)"
   ]
  },
  {
   "cell_type": "markdown",
   "id": "ad781f75",
   "metadata": {},
   "source": [
    "- with 3 Layers - 256,512,1024, dropout=0.2 - 100 epochs - Train accuracy = 45.97 , Test = 50.88\n",
    "- with 3 Layers - 1024,1024,1024, dropout=0.2 - 100 epochs - Train accuracy = 52.60 , Test = 36.19\n",
    "- with 3 Layers - 729,729,729 , no dropout , 30 epochs - Train accuracy = 56.98 , Test = 44.27\n",
    "- with 3 layers - 2124 , 2124 , 2124 , dropout = 0.3 , epochs = 60 , Train = 46.61 , Test = 37.82\n",
    "- with 3 layers - 256,512,1024 , dropout_rate=0.4  , Epochs = 100 , Train = 33.4 , Test = 47.2\n",
    "- with 3 layers - 256,512,1024 , No dropout , Epochs = 100 , Train = 0.51 , Test = 0.46\n",
    "- **with 4 Layers - 256,512,1024,2124 , Dropout=0.2 , Epochs = 200 , Train = 43 , Test = 55.8 , Kaggle = 64.74%**\n",
    "- with 3 layers - 256,512,1024, dropout=0.2 , Epochs = 50 , Train =33.0 , Test = 44.3"
   ]
  },
  {
   "cell_type": "markdown",
   "id": "925804c6",
   "metadata": {},
   "source": [
    "# Fully Connected Network Testing"
   ]
  },
  {
   "cell_type": "code",
   "execution_count": 13,
   "id": "d1428194",
   "metadata": {
    "execution": {
     "iopub.execute_input": "2024-01-28T15:51:14.152298Z",
     "iopub.status.busy": "2024-01-28T15:51:14.151951Z",
     "iopub.status.idle": "2024-01-28T15:51:14.166161Z",
     "shell.execute_reply": "2024-01-28T15:51:14.165279Z",
     "shell.execute_reply.started": "2024-01-28T15:51:14.152264Z"
    }
   },
   "outputs": [],
   "source": [
    "test_grids = np.load('data/sudoku_test_grids.npy')\n",
    "test_grids = torch.tensor(test_grids)"
   ]
  },
  {
   "cell_type": "code",
   "execution_count": 14,
   "id": "758162e8",
   "metadata": {
    "execution": {
     "iopub.execute_input": "2024-01-28T15:51:14.167686Z",
     "iopub.status.busy": "2024-01-28T15:51:14.167417Z",
     "iopub.status.idle": "2024-01-28T15:51:14.174186Z",
     "shell.execute_reply": "2024-01-28T15:51:14.173482Z",
     "shell.execute_reply.started": "2024-01-28T15:51:14.167661Z"
    }
   },
   "outputs": [],
   "source": [
    "def replace_zeros_with_predicted(model, inputs):\n",
    "    model.eval()\n",
    "    with torch.no_grad():\n",
    "        inputs = inputs.to(device, dtype=torch.float)\n",
    "        inputs = inputs.reshape(1,1,9,9)\n",
    "\n",
    "        outputs = model(inputs)\n",
    "        _, predicted = torch.max(outputs.view(-1, 9), 1)\n",
    "        predicted = predicted+1\n",
    "        input_sample = inputs.squeeze().cpu().numpy()\n",
    "        predicted_sample = predicted.cpu().numpy()\n",
    "        \n",
    "        input_sample_flat = input_sample.flatten()\n",
    "        zero_indices = np.where(input_sample_flat == 0)[0]\n",
    "        input_sample_flat[zero_indices] = predicted_sample[zero_indices]\n",
    "        modified_inputs = input_sample_flat.reshape(9, 9)\n",
    "\n",
    "        return modified_inputs"
   ]
  },
  {
   "cell_type": "code",
   "execution_count": 15,
   "id": "b25a26a2",
   "metadata": {
    "execution": {
     "iopub.execute_input": "2024-01-28T15:51:14.175534Z",
     "iopub.status.busy": "2024-01-28T15:51:14.175045Z",
     "iopub.status.idle": "2024-01-28T15:51:21.093788Z",
     "shell.execute_reply": "2024-01-28T15:51:21.092766Z",
     "shell.execute_reply.started": "2024-01-28T15:51:14.175507Z"
    }
   },
   "outputs": [],
   "source": [
    "predicted_grids = []\n",
    "\n",
    "model.eval()\n",
    "for test_grid in range(len(test_grids)):\n",
    "    predicted = replace_zeros_with_predicted(model,test_grids[test_grid])\n",
    "    predicted_grids.append(predicted)"
   ]
  },
  {
   "cell_type": "code",
   "execution_count": 16,
   "id": "2ac60eba",
   "metadata": {
    "execution": {
     "iopub.execute_input": "2024-01-28T15:51:21.095268Z",
     "iopub.status.busy": "2024-01-28T15:51:21.094977Z",
     "iopub.status.idle": "2024-01-28T15:51:22.508114Z",
     "shell.execute_reply": "2024-01-28T15:51:22.507100Z",
     "shell.execute_reply.started": "2024-01-28T15:51:21.095243Z"
    }
   },
   "outputs": [
    {
     "name": "stdout",
     "output_type": "stream",
     "text": [
      "Total time taken: 1.41 seconds\n"
     ]
    }
   ],
   "source": [
    "start_time = time.time()\n",
    "indexes = []\n",
    "labels= []\n",
    "for i,j in enumerate(predicted_grids):\n",
    "    preds = j.reshape(9,9)\n",
    "    for row in range(0,9):\n",
    "        for col in range(0,9):\n",
    "            index = str(i)+\"_\"+str(row)+str(col)\n",
    "            indexes.append(index)\n",
    "            labels.append(int(preds[row,col]))\n",
    "\n",
    "end_time = time.time()\n",
    "elapsed_time = end_time - start_time\n",
    "\n",
    "print(f\"Total time taken: {elapsed_time:.2f} seconds\")"
   ]
  },
  {
   "cell_type": "code",
   "execution_count": 17,
   "id": "6476941d",
   "metadata": {
    "execution": {
     "iopub.execute_input": "2024-01-28T15:51:22.510209Z",
     "iopub.status.busy": "2024-01-28T15:51:22.509381Z",
     "iopub.status.idle": "2024-01-28T15:51:24.484319Z",
     "shell.execute_reply": "2024-01-28T15:51:24.483494Z",
     "shell.execute_reply.started": "2024-01-28T15:51:22.510167Z"
    }
   },
   "outputs": [],
   "source": [
    "s =  {\"id\":indexes , \"values\":labels}\n",
    "s = pd.DataFrame(s)\n",
    "s.to_csv('Submission_ANN.csv', index=False)"
   ]
  },
  {
   "cell_type": "markdown",
   "id": "71bc9c61",
   "metadata": {},
   "source": [
    "# CNN"
   ]
  },
  {
   "cell_type": "code",
   "execution_count": 18,
   "id": "99e15792",
   "metadata": {
    "execution": {
     "iopub.execute_input": "2024-01-28T15:51:24.485699Z",
     "iopub.status.busy": "2024-01-28T15:51:24.485414Z",
     "iopub.status.idle": "2024-01-28T15:51:24.634363Z",
     "shell.execute_reply": "2024-01-28T15:51:24.633577Z",
     "shell.execute_reply.started": "2024-01-28T15:51:24.485673Z"
    }
   },
   "outputs": [],
   "source": [
    "class SudokuSolverCNN(nn.Module):\n",
    "    def __init__(self, dropout_rate=0.5):\n",
    "        super(SudokuSolverCNN, self).__init__()\n",
    "        self.conv1 = nn.Conv2d(1, 64, kernel_size=3, padding=1)\n",
    "        self.bn1 = nn.BatchNorm2d(64)\n",
    "        self.conv2 = nn.Conv2d(64, 64, kernel_size=3, padding=1)\n",
    "        self.bn2 = nn.BatchNorm2d(64)\n",
    "        self.conv3 = nn.Conv2d(64,128, kernel_size=3,padding=1)\n",
    "        self.bn3= nn.BatchNorm2d(128)\n",
    "        self.conv4 = nn.Conv2d(128,256, kernel_size=3,padding=1)\n",
    "        self.bn4= nn.BatchNorm2d(256)\n",
    "        self.conv5 = nn.Conv2d(256,512, kernel_size=3,padding=1)\n",
    "        self.bn5= nn.BatchNorm2d(512)\n",
    "        self.conv6 = nn.Conv2d(512, 256, kernel_size=1)\n",
    "        self.dropout = nn.Dropout(p=dropout_rate)\n",
    "        self.fc1 = nn.Linear(256 * 9 * 9, 81 * 9)\n",
    "        self.ln = nn.LayerNorm(81 * 9)\n",
    "\n",
    "    def forward(self, x):\n",
    "        x = F.relu(self.bn1(self.conv1(x)))\n",
    "        x = F.relu(self.bn2(self.conv2(x)))\n",
    "        x = F.relu(self.bn3(self.conv3(x)))\n",
    "        x = F.relu(self.bn4(self.conv4(x)))\n",
    "        x = F.relu(self.bn5(self.conv5(x)))\n",
    "        x = F.relu(self.conv6(x))\n",
    "        x = x.view(x.size(0), -1)\n",
    "        x = self.dropout(x)\n",
    "        x = self.fc1(x)\n",
    "        x = self.ln(x)\n",
    "        return x.view(-1, 9)  \n",
    "\n",
    "model = SudokuSolverCNN(dropout_rate=0.7)"
   ]
  },
  {
   "cell_type": "code",
   "execution_count": 19,
   "id": "1cfb3886",
   "metadata": {
    "execution": {
     "iopub.execute_input": "2024-01-28T15:51:24.635765Z",
     "iopub.status.busy": "2024-01-28T15:51:24.635484Z",
     "iopub.status.idle": "2024-01-28T15:51:24.663289Z",
     "shell.execute_reply": "2024-01-28T15:51:24.662461Z",
     "shell.execute_reply.started": "2024-01-28T15:51:24.635739Z"
    }
   },
   "outputs": [
    {
     "data": {
      "text/plain": [
       "SudokuSolverCNN(\n",
       "  (conv1): Conv2d(1, 64, kernel_size=(3, 3), stride=(1, 1), padding=(1, 1))\n",
       "  (bn1): BatchNorm2d(64, eps=1e-05, momentum=0.1, affine=True, track_running_stats=True)\n",
       "  (conv2): Conv2d(64, 64, kernel_size=(3, 3), stride=(1, 1), padding=(1, 1))\n",
       "  (bn2): BatchNorm2d(64, eps=1e-05, momentum=0.1, affine=True, track_running_stats=True)\n",
       "  (conv3): Conv2d(64, 128, kernel_size=(3, 3), stride=(1, 1), padding=(1, 1))\n",
       "  (bn3): BatchNorm2d(128, eps=1e-05, momentum=0.1, affine=True, track_running_stats=True)\n",
       "  (conv4): Conv2d(128, 256, kernel_size=(3, 3), stride=(1, 1), padding=(1, 1))\n",
       "  (bn4): BatchNorm2d(256, eps=1e-05, momentum=0.1, affine=True, track_running_stats=True)\n",
       "  (conv5): Conv2d(256, 512, kernel_size=(3, 3), stride=(1, 1), padding=(1, 1))\n",
       "  (bn5): BatchNorm2d(512, eps=1e-05, momentum=0.1, affine=True, track_running_stats=True)\n",
       "  (conv6): Conv2d(512, 256, kernel_size=(1, 1), stride=(1, 1))\n",
       "  (dropout): Dropout(p=0.7, inplace=False)\n",
       "  (fc1): Linear(in_features=20736, out_features=729, bias=True)\n",
       "  (ln): LayerNorm((729,), eps=1e-05, elementwise_affine=True)\n",
       ")"
      ]
     },
     "execution_count": 19,
     "metadata": {},
     "output_type": "execute_result"
    }
   ],
   "source": [
    "model.to(device)\n",
    "model"
   ]
  },
  {
   "cell_type": "code",
   "execution_count": 20,
   "id": "cda5d7ec",
   "metadata": {
    "execution": {
     "iopub.execute_input": "2024-01-28T15:51:24.664992Z",
     "iopub.status.busy": "2024-01-28T15:51:24.664403Z",
     "iopub.status.idle": "2024-01-28T15:53:19.231137Z",
     "shell.execute_reply": "2024-01-28T15:53:19.230299Z",
     "shell.execute_reply.started": "2024-01-28T15:51:24.664958Z"
    }
   },
   "outputs": [
    {
     "name": "stderr",
     "output_type": "stream",
     "text": [
      "Epoch 1 Training: 100%|██████████| 318/318 [00:10<00:00, 29.43it/s]\n",
      "Epoch 1 Validation: 100%|██████████| 157/157 [00:00<00:00, 170.19it/s]\n"
     ]
    },
    {
     "name": "stdout",
     "output_type": "stream",
     "text": [
      "Epoch 1: Train Loss: 1.9558, Train Accuracy: 0.2332, Validation Loss: 1.4915, Validation Accuracy: 0.4661\n"
     ]
    },
    {
     "name": "stderr",
     "output_type": "stream",
     "text": [
      "Epoch 2 Training: 100%|██████████| 318/318 [00:10<00:00, 29.35it/s]\n",
      "Epoch 2 Validation: 100%|██████████| 157/157 [00:00<00:00, 174.10it/s]\n"
     ]
    },
    {
     "name": "stdout",
     "output_type": "stream",
     "text": [
      "Epoch 2: Train Loss: 1.2369, Train Accuracy: 0.5829, Validation Loss: 0.8020, Validation Accuracy: 0.7718\n"
     ]
    },
    {
     "name": "stderr",
     "output_type": "stream",
     "text": [
      "Epoch 3 Training: 100%|██████████| 318/318 [00:10<00:00, 29.98it/s]\n",
      "Epoch 3 Validation: 100%|██████████| 157/157 [00:00<00:00, 178.15it/s]\n"
     ]
    },
    {
     "name": "stdout",
     "output_type": "stream",
     "text": [
      "Epoch 3: Train Loss: 0.8730, Train Accuracy: 0.7246, Validation Loss: 0.6478, Validation Accuracy: 0.8059\n"
     ]
    },
    {
     "name": "stderr",
     "output_type": "stream",
     "text": [
      "Epoch 4 Training: 100%|██████████| 318/318 [00:10<00:00, 30.49it/s]\n",
      "Epoch 4 Validation: 100%|██████████| 157/157 [00:00<00:00, 179.61it/s]\n"
     ]
    },
    {
     "name": "stdout",
     "output_type": "stream",
     "text": [
      "Epoch 4: Train Loss: 0.7505, Train Accuracy: 0.7575, Validation Loss: 0.5851, Validation Accuracy: 0.8128\n"
     ]
    },
    {
     "name": "stderr",
     "output_type": "stream",
     "text": [
      "Epoch 5 Training: 100%|██████████| 318/318 [00:10<00:00, 30.69it/s]\n",
      "Epoch 5 Validation: 100%|██████████| 157/157 [00:00<00:00, 177.92it/s]\n"
     ]
    },
    {
     "name": "stdout",
     "output_type": "stream",
     "text": [
      "Epoch 5: Train Loss: 0.6824, Train Accuracy: 0.7736, Validation Loss: 0.5421, Validation Accuracy: 0.8168\n"
     ]
    },
    {
     "name": "stderr",
     "output_type": "stream",
     "text": [
      "Epoch 6 Training: 100%|██████████| 318/318 [00:10<00:00, 30.81it/s]\n",
      "Epoch 6 Validation: 100%|██████████| 157/157 [00:00<00:00, 178.24it/s]\n"
     ]
    },
    {
     "name": "stdout",
     "output_type": "stream",
     "text": [
      "Epoch 6: Train Loss: 0.6344, Train Accuracy: 0.7851, Validation Loss: 0.5118, Validation Accuracy: 0.8195\n"
     ]
    },
    {
     "name": "stderr",
     "output_type": "stream",
     "text": [
      "Epoch 7 Training: 100%|██████████| 318/318 [00:10<00:00, 30.66it/s]\n",
      "Epoch 7 Validation: 100%|██████████| 157/157 [00:00<00:00, 178.87it/s]\n"
     ]
    },
    {
     "name": "stdout",
     "output_type": "stream",
     "text": [
      "Epoch 7: Train Loss: 0.5972, Train Accuracy: 0.7939, Validation Loss: 0.4904, Validation Accuracy: 0.8205\n"
     ]
    },
    {
     "name": "stderr",
     "output_type": "stream",
     "text": [
      "Epoch 8 Training: 100%|██████████| 318/318 [00:10<00:00, 30.52it/s]\n",
      "Epoch 8 Validation: 100%|██████████| 157/157 [00:00<00:00, 177.34it/s]\n"
     ]
    },
    {
     "name": "stdout",
     "output_type": "stream",
     "text": [
      "Epoch 8: Train Loss: 0.5682, Train Accuracy: 0.8008, Validation Loss: 0.4730, Validation Accuracy: 0.8216\n"
     ]
    },
    {
     "name": "stderr",
     "output_type": "stream",
     "text": [
      "Epoch 9 Training: 100%|██████████| 318/318 [00:10<00:00, 30.37it/s]\n",
      "Epoch 9 Validation: 100%|██████████| 157/157 [00:00<00:00, 176.93it/s]\n"
     ]
    },
    {
     "name": "stdout",
     "output_type": "stream",
     "text": [
      "Epoch 9: Train Loss: 0.5430, Train Accuracy: 0.8076, Validation Loss: 0.4602, Validation Accuracy: 0.8219\n"
     ]
    },
    {
     "name": "stderr",
     "output_type": "stream",
     "text": [
      "Epoch 10 Training: 100%|██████████| 318/318 [00:10<00:00, 30.35it/s]\n",
      "Epoch 10 Validation: 100%|██████████| 157/157 [00:00<00:00, 175.45it/s]\n"
     ]
    },
    {
     "name": "stdout",
     "output_type": "stream",
     "text": [
      "Epoch 10: Train Loss: 0.5223, Train Accuracy: 0.8128, Validation Loss: 0.4490, Validation Accuracy: 0.8227\n"
     ]
    },
    {
     "data": {
      "image/png": "[encoded data removed]",
      "text/plain": [
       "<Figure size 1000x500 with 2 Axes>"
      ]
     },
     "metadata": {},
     "output_type": "display_data"
    }
   ],
   "source": [
    "optimizer = optim.Adam(model.parameters(), lr=0.001)\n",
    "train_loader = DataLoader(train_set, batch_size=126, shuffle=True)\n",
    "test_loader = DataLoader(val_set, batch_size=64, shuffle=False)\n",
    "\n",
    "train_model(model, train_loader, test_loader, 10)"
   ]
  },
  {
   "cell_type": "markdown",
   "id": "74cb51c6",
   "metadata": {},
   "source": [
    "# CNN TEST Predictions\n"
   ]
  },
  {
   "cell_type": "code",
   "execution_count": 21,
   "id": "215f6601",
   "metadata": {
    "execution": {
     "iopub.execute_input": "2024-01-28T15:53:19.232735Z",
     "iopub.status.busy": "2024-01-28T15:53:19.232433Z",
     "iopub.status.idle": "2024-01-28T15:53:19.244603Z",
     "shell.execute_reply": "2024-01-28T15:53:19.243818Z",
     "shell.execute_reply.started": "2024-01-28T15:53:19.232709Z"
    }
   },
   "outputs": [],
   "source": [
    "test_grids = np.load('data/sudoku_test_grids.npy')\n",
    "test_grids = torch.tensor(test_grids)"
   ]
  },
  {
   "cell_type": "code",
   "execution_count": 22,
   "id": "dc820784",
   "metadata": {
    "execution": {
     "iopub.execute_input": "2024-01-28T15:53:19.246291Z",
     "iopub.status.busy": "2024-01-28T15:53:19.245714Z",
     "iopub.status.idle": "2024-01-28T15:53:30.445639Z",
     "shell.execute_reply": "2024-01-28T15:53:30.444685Z",
     "shell.execute_reply.started": "2024-01-28T15:53:19.246244Z"
    }
   },
   "outputs": [
    {
     "name": "stdout",
     "output_type": "stream",
     "text": [
      "Total time taken: 11.19 seconds\n"
     ]
    }
   ],
   "source": [
    "predicted_grids = []\n",
    "start_time = time.time()\n",
    "\n",
    "for test_grid in range(len(test_grids)):\n",
    "    input_data = test_grids[test_grid].float() \n",
    "    input_data = input_data.to(device).reshape(-1,1,9,9)\n",
    "    outputs = model(input_data)\n",
    "    _, predicted = torch.max(outputs.view(-1,9),1)\n",
    "    predicted = predicted.reshape(9,9)+1\n",
    "    predicted_grids.append(predicted)\n",
    "\n",
    "end_time = time.time()\n",
    "elapsed_time = end_time - start_time\n",
    "\n",
    "print(f\"Total time taken: {elapsed_time:.2f} seconds\")"
   ]
  },
  {
   "cell_type": "code",
   "execution_count": 23,
   "id": "919d91d3",
   "metadata": {
    "execution": {
     "iopub.execute_input": "2024-01-28T15:53:30.447542Z",
     "iopub.status.busy": "2024-01-28T15:53:30.446906Z",
     "iopub.status.idle": "2024-01-28T15:53:45.981532Z",
     "shell.execute_reply": "2024-01-28T15:53:45.980718Z",
     "shell.execute_reply.started": "2024-01-28T15:53:30.447503Z"
    }
   },
   "outputs": [],
   "source": [
    "indexes = []\n",
    "labels= []\n",
    "for i,j in enumerate(predicted_grids):\n",
    "    preds = j.reshape(9,9)\n",
    "    for row in range(0,9):\n",
    "        for col in range(0,9):\n",
    "            index = str(i)+\"_\"+str(row)+str(col)\n",
    "            indexes.append(index)\n",
    "            labels.append(int(preds[row,col]))"
   ]
  },
  {
   "cell_type": "code",
   "execution_count": 24,
   "id": "fe948ea7",
   "metadata": {
    "execution": {
     "iopub.execute_input": "2024-01-28T15:53:45.982969Z",
     "iopub.status.busy": "2024-01-28T15:53:45.982666Z",
     "iopub.status.idle": "2024-01-28T15:53:47.941731Z",
     "shell.execute_reply": "2024-01-28T15:53:47.940686Z",
     "shell.execute_reply.started": "2024-01-28T15:53:45.982943Z"
    }
   },
   "outputs": [],
   "source": [
    "s =  {\"id\":indexes , \"values\":labels}\n",
    "s = pd.DataFrame(s)\n",
    "s.to_csv(\"Submission_CNN.csv\", index=False)"
   ]
  },
  {
   "cell_type": "markdown",
   "id": "3e7df73a",
   "metadata": {},
   "source": [
    "# LSTM"
   ]
  },
  {
   "cell_type": "code",
   "execution_count": 25,
   "id": "607cb319",
   "metadata": {
    "execution": {
     "iopub.execute_input": "2024-01-28T15:53:47.943231Z",
     "iopub.status.busy": "2024-01-28T15:53:47.942928Z",
     "iopub.status.idle": "2024-01-28T15:53:47.964501Z",
     "shell.execute_reply": "2024-01-28T15:53:47.963675Z",
     "shell.execute_reply.started": "2024-01-28T15:53:47.943205Z"
    }
   },
   "outputs": [],
   "source": [
    "class SudokuSolverLSTM(nn.Module):\n",
    "    def __init__(self, dropout_rate=0.2):\n",
    "        super(SudokuSolverLSTM, self).__init__()\n",
    "        self.lstm_input_size = 9 * 9  \n",
    "        self.hidden_size = 512  \n",
    "        self.num_layers = 1 \n",
    "        self.dropout_rate = dropout_rate \n",
    "        \n",
    "        self.lstm = nn.LSTM(self.lstm_input_size, self.hidden_size, self.num_layers, batch_first=True)\n",
    "        self.dropout = nn.Dropout(dropout_rate) \n",
    "        self.fc1 = nn.Linear(self.hidden_size, 81 * 9)\n",
    "\n",
    "    def forward(self, x):\n",
    "        batch_size = x.size(0)\n",
    "        x = x.view(batch_size, -1, self.lstm_input_size)  \n",
    "        h0 = torch.zeros(self.num_layers, batch_size, self.hidden_size).to(x.device)  \n",
    "        c0 = torch.zeros(self.num_layers, batch_size, self.hidden_size).to(x.device)  \n",
    "        out, _ = self.lstm(x, (h0, c0))\n",
    "        out = self.dropout(out)  \n",
    "        out = self.fc1(out[:, -1, :])  \n",
    "        return out.view(-1, 9)  \n",
    "\n",
    "model = SudokuSolverLSTM()"
   ]
  },
  {
   "cell_type": "code",
   "execution_count": 26,
   "id": "7b9998e6",
   "metadata": {
    "execution": {
     "iopub.execute_input": "2024-01-28T15:53:47.965977Z",
     "iopub.status.busy": "2024-01-28T15:53:47.965685Z",
     "iopub.status.idle": "2024-01-28T15:53:47.977548Z",
     "shell.execute_reply": "2024-01-28T15:53:47.976528Z",
     "shell.execute_reply.started": "2024-01-28T15:53:47.965952Z"
    }
   },
   "outputs": [
    {
     "data": {
      "text/plain": [
       "SudokuSolverLSTM(\n",
       "  (lstm): LSTM(81, 512, batch_first=True)\n",
       "  (dropout): Dropout(p=0.2, inplace=False)\n",
       "  (fc1): Linear(in_features=512, out_features=729, bias=True)\n",
       ")"
      ]
     },
     "execution_count": 26,
     "metadata": {},
     "output_type": "execute_result"
    }
   ],
   "source": [
    "model.to(device)\n",
    "model"
   ]
  },
  {
   "cell_type": "code",
   "execution_count": 27,
   "id": "b0d51c5b",
   "metadata": {
    "execution": {
     "iopub.execute_input": "2024-01-28T15:53:47.978904Z",
     "iopub.status.busy": "2024-01-28T15:53:47.978608Z",
     "iopub.status.idle": "2024-01-28T15:55:40.499379Z",
     "shell.execute_reply": "2024-01-28T15:55:40.498403Z",
     "shell.execute_reply.started": "2024-01-28T15:53:47.978879Z"
    }
   },
   "outputs": [
    {
     "name": "stderr",
     "output_type": "stream",
     "text": [
      "Epoch 1 Training: 100%|██████████| 625/625 [00:02<00:00, 308.34it/s]\n",
      "Epoch 1 Validation: 100%|██████████| 313/313 [00:00<00:00, 916.41it/s]\n"
     ]
    },
    {
     "name": "stdout",
     "output_type": "stream",
     "text": [
      "Epoch 1: Train Loss: 2.1206, Train Accuracy: 0.1630, Validation Loss: 2.0878, Validation Accuracy: 0.1726\n"
     ]
    },
    {
     "name": "stderr",
     "output_type": "stream",
     "text": [
      "Epoch 2 Training: 100%|██████████| 625/625 [00:01<00:00, 337.04it/s]\n",
      "Epoch 2 Validation: 100%|██████████| 313/313 [00:00<00:00, 889.56it/s]\n"
     ]
    },
    {
     "name": "stdout",
     "output_type": "stream",
     "text": [
      "Epoch 2: Train Loss: 2.0820, Train Accuracy: 0.1802, Validation Loss: 2.0793, Validation Accuracy: 0.1756\n"
     ]
    },
    {
     "name": "stderr",
     "output_type": "stream",
     "text": [
      "Epoch 3 Training: 100%|██████████| 625/625 [00:01<00:00, 333.22it/s]\n",
      "Epoch 3 Validation: 100%|██████████| 313/313 [00:00<00:00, 882.85it/s]\n"
     ]
    },
    {
     "name": "stdout",
     "output_type": "stream",
     "text": [
      "Epoch 3: Train Loss: 2.0622, Train Accuracy: 0.1904, Validation Loss: 2.0594, Validation Accuracy: 0.1841\n"
     ]
    },
    {
     "name": "stderr",
     "output_type": "stream",
     "text": [
      "Epoch 4 Training: 100%|██████████| 625/625 [00:01<00:00, 335.64it/s]\n",
      "Epoch 4 Validation: 100%|██████████| 313/313 [00:00<00:00, 875.43it/s]\n"
     ]
    },
    {
     "name": "stdout",
     "output_type": "stream",
     "text": [
      "Epoch 4: Train Loss: 2.0168, Train Accuracy: 0.2109, Validation Loss: 1.9978, Validation Accuracy: 0.2088\n"
     ]
    },
    {
     "name": "stderr",
     "output_type": "stream",
     "text": [
      "Epoch 5 Training: 100%|██████████| 625/625 [00:01<00:00, 331.54it/s]\n",
      "Epoch 5 Validation: 100%|██████████| 313/313 [00:00<00:00, 826.69it/s]\n"
     ]
    },
    {
     "name": "stdout",
     "output_type": "stream",
     "text": [
      "Epoch 5: Train Loss: 1.9435, Train Accuracy: 0.2402, Validation Loss: 1.9173, Validation Accuracy: 0.2393\n"
     ]
    },
    {
     "name": "stderr",
     "output_type": "stream",
     "text": [
      "Epoch 6 Training: 100%|██████████| 625/625 [00:01<00:00, 332.37it/s]\n",
      "Epoch 6 Validation: 100%|██████████| 313/313 [00:00<00:00, 901.44it/s]\n"
     ]
    },
    {
     "name": "stdout",
     "output_type": "stream",
     "text": [
      "Epoch 6: Train Loss: 1.8650, Train Accuracy: 0.2696, Validation Loss: 1.8353, Validation Accuracy: 0.2730\n"
     ]
    },
    {
     "name": "stderr",
     "output_type": "stream",
     "text": [
      "Epoch 7 Training: 100%|██████████| 625/625 [00:01<00:00, 324.07it/s]\n",
      "Epoch 7 Validation: 100%|██████████| 313/313 [00:00<00:00, 937.67it/s]\n"
     ]
    },
    {
     "name": "stdout",
     "output_type": "stream",
     "text": [
      "Epoch 7: Train Loss: 1.7929, Train Accuracy: 0.2973, Validation Loss: 1.7643, Validation Accuracy: 0.3036\n"
     ]
    },
    {
     "name": "stderr",
     "output_type": "stream",
     "text": [
      "Epoch 8 Training: 100%|██████████| 625/625 [00:01<00:00, 333.15it/s]\n",
      "Epoch 8 Validation: 100%|██████████| 313/313 [00:00<00:00, 920.02it/s]\n"
     ]
    },
    {
     "name": "stdout",
     "output_type": "stream",
     "text": [
      "Epoch 8: Train Loss: 1.7320, Train Accuracy: 0.3219, Validation Loss: 1.7020, Validation Accuracy: 0.3298\n"
     ]
    },
    {
     "name": "stderr",
     "output_type": "stream",
     "text": [
      "Epoch 9 Training: 100%|██████████| 625/625 [00:01<00:00, 336.98it/s]\n",
      "Epoch 9 Validation: 100%|██████████| 313/313 [00:00<00:00, 912.82it/s]\n"
     ]
    },
    {
     "name": "stdout",
     "output_type": "stream",
     "text": [
      "Epoch 9: Train Loss: 1.6788, Train Accuracy: 0.3444, Validation Loss: 1.6460, Validation Accuracy: 0.3564\n"
     ]
    },
    {
     "name": "stderr",
     "output_type": "stream",
     "text": [
      "Epoch 10 Training: 100%|██████████| 625/625 [00:01<00:00, 334.84it/s]\n",
      "Epoch 10 Validation: 100%|██████████| 313/313 [00:00<00:00, 913.24it/s]\n"
     ]
    },
    {
     "name": "stdout",
     "output_type": "stream",
     "text": [
      "Epoch 10: Train Loss: 1.6327, Train Accuracy: 0.3631, Validation Loss: 1.5988, Validation Accuracy: 0.3748\n"
     ]
    },
    {
     "name": "stderr",
     "output_type": "stream",
     "text": [
      "Epoch 11 Training: 100%|██████████| 625/625 [00:01<00:00, 330.62it/s]\n",
      "Epoch 11 Validation: 100%|██████████| 313/313 [00:00<00:00, 939.40it/s]\n"
     ]
    },
    {
     "name": "stdout",
     "output_type": "stream",
     "text": [
      "Epoch 11: Train Loss: 1.5937, Train Accuracy: 0.3789, Validation Loss: 1.5563, Validation Accuracy: 0.3947\n"
     ]
    },
    {
     "name": "stderr",
     "output_type": "stream",
     "text": [
      "Epoch 12 Training: 100%|██████████| 625/625 [00:01<00:00, 340.62it/s]\n",
      "Epoch 12 Validation: 100%|██████████| 313/313 [00:00<00:00, 872.78it/s]\n"
     ]
    },
    {
     "name": "stdout",
     "output_type": "stream",
     "text": [
      "Epoch 12: Train Loss: 1.5607, Train Accuracy: 0.3921, Validation Loss: 1.5200, Validation Accuracy: 0.4123\n"
     ]
    },
    {
     "name": "stderr",
     "output_type": "stream",
     "text": [
      "Epoch 13 Training: 100%|██████████| 625/625 [00:01<00:00, 331.43it/s]\n",
      "Epoch 13 Validation: 100%|██████████| 313/313 [00:00<00:00, 887.31it/s]\n"
     ]
    },
    {
     "name": "stdout",
     "output_type": "stream",
     "text": [
      "Epoch 13: Train Loss: 1.5327, Train Accuracy: 0.4034, Validation Loss: 1.4881, Validation Accuracy: 0.4263\n"
     ]
    },
    {
     "name": "stderr",
     "output_type": "stream",
     "text": [
      "Epoch 14 Training: 100%|██████████| 625/625 [00:01<00:00, 334.08it/s]\n",
      "Epoch 14 Validation: 100%|██████████| 313/313 [00:00<00:00, 899.33it/s]\n"
     ]
    },
    {
     "name": "stdout",
     "output_type": "stream",
     "text": [
      "Epoch 14: Train Loss: 1.5070, Train Accuracy: 0.4136, Validation Loss: 1.4599, Validation Accuracy: 0.4382\n"
     ]
    },
    {
     "name": "stderr",
     "output_type": "stream",
     "text": [
      "Epoch 15 Training: 100%|██████████| 625/625 [00:01<00:00, 319.32it/s]\n",
      "Epoch 15 Validation: 100%|██████████| 313/313 [00:00<00:00, 889.49it/s]\n"
     ]
    },
    {
     "name": "stdout",
     "output_type": "stream",
     "text": [
      "Epoch 15: Train Loss: 1.4853, Train Accuracy: 0.4224, Validation Loss: 1.4362, Validation Accuracy: 0.4490\n"
     ]
    },
    {
     "name": "stderr",
     "output_type": "stream",
     "text": [
      "Epoch 16 Training: 100%|██████████| 625/625 [00:01<00:00, 328.57it/s]\n",
      "Epoch 16 Validation: 100%|██████████| 313/313 [00:00<00:00, 888.38it/s]\n"
     ]
    },
    {
     "name": "stdout",
     "output_type": "stream",
     "text": [
      "Epoch 16: Train Loss: 1.4665, Train Accuracy: 0.4302, Validation Loss: 1.4136, Validation Accuracy: 0.4593\n"
     ]
    },
    {
     "name": "stderr",
     "output_type": "stream",
     "text": [
      "Epoch 17 Training: 100%|██████████| 625/625 [00:01<00:00, 336.48it/s]\n",
      "Epoch 17 Validation: 100%|██████████| 313/313 [00:00<00:00, 915.40it/s]\n"
     ]
    },
    {
     "name": "stdout",
     "output_type": "stream",
     "text": [
      "Epoch 17: Train Loss: 1.4498, Train Accuracy: 0.4370, Validation Loss: 1.3945, Validation Accuracy: 0.4674\n"
     ]
    },
    {
     "name": "stderr",
     "output_type": "stream",
     "text": [
      "Epoch 18 Training: 100%|██████████| 625/625 [00:01<00:00, 339.27it/s]\n",
      "Epoch 18 Validation: 100%|██████████| 313/313 [00:00<00:00, 894.13it/s]\n"
     ]
    },
    {
     "name": "stdout",
     "output_type": "stream",
     "text": [
      "Epoch 18: Train Loss: 1.4348, Train Accuracy: 0.4428, Validation Loss: 1.3772, Validation Accuracy: 0.4750\n"
     ]
    },
    {
     "name": "stderr",
     "output_type": "stream",
     "text": [
      "Epoch 19 Training: 100%|██████████| 625/625 [00:01<00:00, 337.80it/s]\n",
      "Epoch 19 Validation: 100%|██████████| 313/313 [00:00<00:00, 909.08it/s]\n"
     ]
    },
    {
     "name": "stdout",
     "output_type": "stream",
     "text": [
      "Epoch 19: Train Loss: 1.4216, Train Accuracy: 0.4484, Validation Loss: 1.3606, Validation Accuracy: 0.4819\n"
     ]
    },
    {
     "name": "stderr",
     "output_type": "stream",
     "text": [
      "Epoch 20 Training: 100%|██████████| 625/625 [00:01<00:00, 327.47it/s]\n",
      "Epoch 20 Validation: 100%|██████████| 313/313 [00:00<00:00, 847.28it/s]\n"
     ]
    },
    {
     "name": "stdout",
     "output_type": "stream",
     "text": [
      "Epoch 20: Train Loss: 1.4085, Train Accuracy: 0.4538, Validation Loss: 1.3459, Validation Accuracy: 0.4883\n"
     ]
    },
    {
     "name": "stderr",
     "output_type": "stream",
     "text": [
      "Epoch 21 Training: 100%|██████████| 625/625 [00:01<00:00, 335.63it/s]\n",
      "Epoch 21 Validation: 100%|██████████| 313/313 [00:00<00:00, 923.12it/s]\n"
     ]
    },
    {
     "name": "stdout",
     "output_type": "stream",
     "text": [
      "Epoch 21: Train Loss: 1.3977, Train Accuracy: 0.4578, Validation Loss: 1.3331, Validation Accuracy: 0.4941\n"
     ]
    },
    {
     "name": "stderr",
     "output_type": "stream",
     "text": [
      "Epoch 22 Training: 100%|██████████| 625/625 [00:01<00:00, 333.55it/s]\n",
      "Epoch 22 Validation: 100%|██████████| 313/313 [00:00<00:00, 902.61it/s]\n"
     ]
    },
    {
     "name": "stdout",
     "output_type": "stream",
     "text": [
      "Epoch 22: Train Loss: 1.3879, Train Accuracy: 0.4623, Validation Loss: 1.3199, Validation Accuracy: 0.4995\n"
     ]
    },
    {
     "name": "stderr",
     "output_type": "stream",
     "text": [
      "Epoch 23 Training: 100%|██████████| 625/625 [00:01<00:00, 336.33it/s]\n",
      "Epoch 23 Validation: 100%|██████████| 313/313 [00:00<00:00, 924.33it/s]\n"
     ]
    },
    {
     "name": "stdout",
     "output_type": "stream",
     "text": [
      "Epoch 23: Train Loss: 1.3776, Train Accuracy: 0.4659, Validation Loss: 1.3087, Validation Accuracy: 0.5049\n"
     ]
    },
    {
     "name": "stderr",
     "output_type": "stream",
     "text": [
      "Epoch 24 Training: 100%|██████████| 625/625 [00:01<00:00, 337.62it/s]\n",
      "Epoch 24 Validation: 100%|██████████| 313/313 [00:00<00:00, 892.35it/s]\n"
     ]
    },
    {
     "name": "stdout",
     "output_type": "stream",
     "text": [
      "Epoch 24: Train Loss: 1.3678, Train Accuracy: 0.4704, Validation Loss: 1.2985, Validation Accuracy: 0.5085\n"
     ]
    },
    {
     "name": "stderr",
     "output_type": "stream",
     "text": [
      "Epoch 25 Training: 100%|██████████| 625/625 [00:01<00:00, 329.91it/s]\n",
      "Epoch 25 Validation: 100%|██████████| 313/313 [00:00<00:00, 922.26it/s]\n"
     ]
    },
    {
     "name": "stdout",
     "output_type": "stream",
     "text": [
      "Epoch 25: Train Loss: 1.3605, Train Accuracy: 0.4734, Validation Loss: 1.2899, Validation Accuracy: 0.5120\n"
     ]
    },
    {
     "name": "stderr",
     "output_type": "stream",
     "text": [
      "Epoch 26 Training: 100%|██████████| 625/625 [00:01<00:00, 333.58it/s]\n",
      "Epoch 26 Validation: 100%|██████████| 313/313 [00:00<00:00, 889.66it/s]\n"
     ]
    },
    {
     "name": "stdout",
     "output_type": "stream",
     "text": [
      "Epoch 26: Train Loss: 1.3530, Train Accuracy: 0.4763, Validation Loss: 1.2798, Validation Accuracy: 0.5167\n"
     ]
    },
    {
     "name": "stderr",
     "output_type": "stream",
     "text": [
      "Epoch 27 Training: 100%|██████████| 625/625 [00:01<00:00, 332.21it/s]\n",
      "Epoch 27 Validation: 100%|██████████| 313/313 [00:00<00:00, 920.54it/s]\n"
     ]
    },
    {
     "name": "stdout",
     "output_type": "stream",
     "text": [
      "Epoch 27: Train Loss: 1.3453, Train Accuracy: 0.4795, Validation Loss: 1.2712, Validation Accuracy: 0.5199\n"
     ]
    },
    {
     "name": "stderr",
     "output_type": "stream",
     "text": [
      "Epoch 28 Training: 100%|██████████| 625/625 [00:01<00:00, 333.58it/s]\n",
      "Epoch 28 Validation: 100%|██████████| 313/313 [00:00<00:00, 921.45it/s]\n"
     ]
    },
    {
     "name": "stdout",
     "output_type": "stream",
     "text": [
      "Epoch 28: Train Loss: 1.3390, Train Accuracy: 0.4822, Validation Loss: 1.2627, Validation Accuracy: 0.5237\n"
     ]
    },
    {
     "name": "stderr",
     "output_type": "stream",
     "text": [
      "Epoch 29 Training: 100%|██████████| 625/625 [00:01<00:00, 314.78it/s]\n",
      "Epoch 29 Validation: 100%|██████████| 313/313 [00:00<00:00, 859.90it/s]\n"
     ]
    },
    {
     "name": "stdout",
     "output_type": "stream",
     "text": [
      "Epoch 29: Train Loss: 1.3321, Train Accuracy: 0.4850, Validation Loss: 1.2555, Validation Accuracy: 0.5276\n"
     ]
    },
    {
     "name": "stderr",
     "output_type": "stream",
     "text": [
      "Epoch 30 Training: 100%|██████████| 625/625 [00:01<00:00, 331.10it/s]\n",
      "Epoch 30 Validation: 100%|██████████| 313/313 [00:00<00:00, 923.21it/s]\n"
     ]
    },
    {
     "name": "stdout",
     "output_type": "stream",
     "text": [
      "Epoch 30: Train Loss: 1.3256, Train Accuracy: 0.4880, Validation Loss: 1.2490, Validation Accuracy: 0.5301\n"
     ]
    },
    {
     "name": "stderr",
     "output_type": "stream",
     "text": [
      "Epoch 31 Training: 100%|██████████| 625/625 [00:01<00:00, 331.76it/s]\n",
      "Epoch 31 Validation: 100%|██████████| 313/313 [00:00<00:00, 889.58it/s]\n"
     ]
    },
    {
     "name": "stdout",
     "output_type": "stream",
     "text": [
      "Epoch 31: Train Loss: 1.3195, Train Accuracy: 0.4907, Validation Loss: 1.2414, Validation Accuracy: 0.5337\n"
     ]
    },
    {
     "name": "stderr",
     "output_type": "stream",
     "text": [
      "Epoch 32 Training: 100%|██████████| 625/625 [00:01<00:00, 327.41it/s]\n",
      "Epoch 32 Validation: 100%|██████████| 313/313 [00:00<00:00, 914.15it/s]\n"
     ]
    },
    {
     "name": "stdout",
     "output_type": "stream",
     "text": [
      "Epoch 32: Train Loss: 1.3141, Train Accuracy: 0.4931, Validation Loss: 1.2343, Validation Accuracy: 0.5370\n"
     ]
    },
    {
     "name": "stderr",
     "output_type": "stream",
     "text": [
      "Epoch 33 Training: 100%|██████████| 625/625 [00:01<00:00, 340.58it/s]\n",
      "Epoch 33 Validation: 100%|██████████| 313/313 [00:00<00:00, 922.40it/s]\n"
     ]
    },
    {
     "name": "stdout",
     "output_type": "stream",
     "text": [
      "Epoch 33: Train Loss: 1.3083, Train Accuracy: 0.4958, Validation Loss: 1.2277, Validation Accuracy: 0.5399\n"
     ]
    },
    {
     "name": "stderr",
     "output_type": "stream",
     "text": [
      "Epoch 34 Training: 100%|██████████| 625/625 [00:01<00:00, 327.73it/s]\n",
      "Epoch 34 Validation: 100%|██████████| 313/313 [00:00<00:00, 855.54it/s]\n"
     ]
    },
    {
     "name": "stdout",
     "output_type": "stream",
     "text": [
      "Epoch 34: Train Loss: 1.3038, Train Accuracy: 0.4974, Validation Loss: 1.2227, Validation Accuracy: 0.5421\n"
     ]
    },
    {
     "name": "stderr",
     "output_type": "stream",
     "text": [
      "Epoch 35 Training: 100%|██████████| 625/625 [00:01<00:00, 330.39it/s]\n",
      "Epoch 35 Validation: 100%|██████████| 313/313 [00:00<00:00, 922.31it/s]\n"
     ]
    },
    {
     "name": "stdout",
     "output_type": "stream",
     "text": [
      "Epoch 35: Train Loss: 1.2983, Train Accuracy: 0.5006, Validation Loss: 1.2167, Validation Accuracy: 0.5448\n"
     ]
    },
    {
     "name": "stderr",
     "output_type": "stream",
     "text": [
      "Epoch 36 Training: 100%|██████████| 625/625 [00:01<00:00, 329.36it/s]\n",
      "Epoch 36 Validation: 100%|██████████| 313/313 [00:00<00:00, 899.57it/s]\n"
     ]
    },
    {
     "name": "stdout",
     "output_type": "stream",
     "text": [
      "Epoch 36: Train Loss: 1.2933, Train Accuracy: 0.5019, Validation Loss: 1.2112, Validation Accuracy: 0.5477\n"
     ]
    },
    {
     "name": "stderr",
     "output_type": "stream",
     "text": [
      "Epoch 37 Training: 100%|██████████| 625/625 [00:01<00:00, 332.93it/s]\n",
      "Epoch 37 Validation: 100%|██████████| 313/313 [00:00<00:00, 891.40it/s]\n"
     ]
    },
    {
     "name": "stdout",
     "output_type": "stream",
     "text": [
      "Epoch 37: Train Loss: 1.2888, Train Accuracy: 0.5039, Validation Loss: 1.2059, Validation Accuracy: 0.5500\n"
     ]
    },
    {
     "name": "stderr",
     "output_type": "stream",
     "text": [
      "Epoch 38 Training: 100%|██████████| 625/625 [00:01<00:00, 332.42it/s]\n",
      "Epoch 38 Validation: 100%|██████████| 313/313 [00:00<00:00, 900.93it/s]\n"
     ]
    },
    {
     "name": "stdout",
     "output_type": "stream",
     "text": [
      "Epoch 38: Train Loss: 1.2842, Train Accuracy: 0.5061, Validation Loss: 1.2005, Validation Accuracy: 0.5531\n"
     ]
    },
    {
     "name": "stderr",
     "output_type": "stream",
     "text": [
      "Epoch 39 Training: 100%|██████████| 625/625 [00:01<00:00, 334.36it/s]\n",
      "Epoch 39 Validation: 100%|██████████| 313/313 [00:00<00:00, 916.80it/s]\n"
     ]
    },
    {
     "name": "stdout",
     "output_type": "stream",
     "text": [
      "Epoch 39: Train Loss: 1.2795, Train Accuracy: 0.5083, Validation Loss: 1.1970, Validation Accuracy: 0.5540\n"
     ]
    },
    {
     "name": "stderr",
     "output_type": "stream",
     "text": [
      "Epoch 40 Training: 100%|██████████| 625/625 [00:01<00:00, 337.81it/s]\n",
      "Epoch 40 Validation: 100%|██████████| 313/313 [00:00<00:00, 911.25it/s]\n"
     ]
    },
    {
     "name": "stdout",
     "output_type": "stream",
     "text": [
      "Epoch 40: Train Loss: 1.2764, Train Accuracy: 0.5093, Validation Loss: 1.1936, Validation Accuracy: 0.5551\n"
     ]
    },
    {
     "name": "stderr",
     "output_type": "stream",
     "text": [
      "Epoch 41 Training: 100%|██████████| 625/625 [00:01<00:00, 338.79it/s]\n",
      "Epoch 41 Validation: 100%|██████████| 313/313 [00:00<00:00, 944.29it/s]\n"
     ]
    },
    {
     "name": "stdout",
     "output_type": "stream",
     "text": [
      "Epoch 41: Train Loss: 1.2723, Train Accuracy: 0.5115, Validation Loss: 1.1881, Validation Accuracy: 0.5583\n"
     ]
    },
    {
     "name": "stderr",
     "output_type": "stream",
     "text": [
      "Epoch 42 Training: 100%|██████████| 625/625 [00:01<00:00, 336.71it/s]\n",
      "Epoch 42 Validation: 100%|██████████| 313/313 [00:00<00:00, 859.13it/s]\n"
     ]
    },
    {
     "name": "stdout",
     "output_type": "stream",
     "text": [
      "Epoch 42: Train Loss: 1.2691, Train Accuracy: 0.5123, Validation Loss: 1.1840, Validation Accuracy: 0.5600\n"
     ]
    },
    {
     "name": "stderr",
     "output_type": "stream",
     "text": [
      "Epoch 43 Training: 100%|██████████| 625/625 [00:01<00:00, 315.28it/s]\n",
      "Epoch 43 Validation: 100%|██████████| 313/313 [00:00<00:00, 829.47it/s]\n"
     ]
    },
    {
     "name": "stdout",
     "output_type": "stream",
     "text": [
      "Epoch 43: Train Loss: 1.2654, Train Accuracy: 0.5143, Validation Loss: 1.1811, Validation Accuracy: 0.5614\n"
     ]
    },
    {
     "name": "stderr",
     "output_type": "stream",
     "text": [
      "Epoch 44 Training: 100%|██████████| 625/625 [00:01<00:00, 336.29it/s]\n",
      "Epoch 44 Validation: 100%|██████████| 313/313 [00:00<00:00, 885.11it/s]\n"
     ]
    },
    {
     "name": "stdout",
     "output_type": "stream",
     "text": [
      "Epoch 44: Train Loss: 1.2621, Train Accuracy: 0.5158, Validation Loss: 1.1783, Validation Accuracy: 0.5625\n"
     ]
    },
    {
     "name": "stderr",
     "output_type": "stream",
     "text": [
      "Epoch 45 Training: 100%|██████████| 625/625 [00:01<00:00, 333.00it/s]\n",
      "Epoch 45 Validation: 100%|██████████| 313/313 [00:00<00:00, 881.99it/s]\n"
     ]
    },
    {
     "name": "stdout",
     "output_type": "stream",
     "text": [
      "Epoch 45: Train Loss: 1.2594, Train Accuracy: 0.5167, Validation Loss: 1.1730, Validation Accuracy: 0.5656\n"
     ]
    },
    {
     "name": "stderr",
     "output_type": "stream",
     "text": [
      "Epoch 46 Training: 100%|██████████| 625/625 [00:01<00:00, 333.71it/s]\n",
      "Epoch 46 Validation: 100%|██████████| 313/313 [00:00<00:00, 914.20it/s]\n"
     ]
    },
    {
     "name": "stdout",
     "output_type": "stream",
     "text": [
      "Epoch 46: Train Loss: 1.2560, Train Accuracy: 0.5183, Validation Loss: 1.1705, Validation Accuracy: 0.5660\n"
     ]
    },
    {
     "name": "stderr",
     "output_type": "stream",
     "text": [
      "Epoch 47 Training: 100%|██████████| 625/625 [00:01<00:00, 332.47it/s]\n",
      "Epoch 47 Validation: 100%|██████████| 313/313 [00:00<00:00, 905.88it/s]\n"
     ]
    },
    {
     "name": "stdout",
     "output_type": "stream",
     "text": [
      "Epoch 47: Train Loss: 1.2536, Train Accuracy: 0.5193, Validation Loss: 1.1675, Validation Accuracy: 0.5678\n"
     ]
    },
    {
     "name": "stderr",
     "output_type": "stream",
     "text": [
      "Epoch 48 Training: 100%|██████████| 625/625 [00:01<00:00, 332.02it/s]\n",
      "Epoch 48 Validation: 100%|██████████| 313/313 [00:00<00:00, 894.96it/s]\n"
     ]
    },
    {
     "name": "stdout",
     "output_type": "stream",
     "text": [
      "Epoch 48: Train Loss: 1.2506, Train Accuracy: 0.5209, Validation Loss: 1.1636, Validation Accuracy: 0.5695\n"
     ]
    },
    {
     "name": "stderr",
     "output_type": "stream",
     "text": [
      "Epoch 49 Training: 100%|██████████| 625/625 [00:01<00:00, 333.08it/s]\n",
      "Epoch 49 Validation: 100%|██████████| 313/313 [00:00<00:00, 866.46it/s]\n"
     ]
    },
    {
     "name": "stdout",
     "output_type": "stream",
     "text": [
      "Epoch 49: Train Loss: 1.2473, Train Accuracy: 0.5220, Validation Loss: 1.1599, Validation Accuracy: 0.5712\n"
     ]
    },
    {
     "name": "stderr",
     "output_type": "stream",
     "text": [
      "Epoch 50 Training: 100%|██████████| 625/625 [00:01<00:00, 333.37it/s]\n",
      "Epoch 50 Validation: 100%|██████████| 313/313 [00:00<00:00, 893.94it/s]\n"
     ]
    },
    {
     "name": "stdout",
     "output_type": "stream",
     "text": [
      "Epoch 50: Train Loss: 1.2446, Train Accuracy: 0.5233, Validation Loss: 1.1583, Validation Accuracy: 0.5718\n"
     ]
    },
    {
     "data": {
      "image/png": "[encoded data removed]",
      "text/plain": [
       "<Figure size 1000x500 with 2 Axes>"
      ]
     },
     "metadata": {},
     "output_type": "display_data"
    }
   ],
   "source": [
    "optimizer = optim.Adam(model.parameters(), lr=0.001)\n",
    "train_loader = DataLoader(train_set, batch_size=64, shuffle=True)\n",
    "test_loader = DataLoader(val_set, batch_size=32, shuffle=False)\n",
    "                         \n",
    "train_model(model, train_loader, test_loader, 50)"
   ]
  },
  {
   "cell_type": "markdown",
   "id": "a95c474b",
   "metadata": {},
   "source": [
    "LSTM Experimentation\n",
    "\n",
    "- 1024 neurons , 1 layer , 50 epochs , Dropout = 0.1 , Training = 63.55 , testing = 55.83\n",
    "- **1024 neurons , 1 layer , 50 epochs , Dropout = 0.4 , Training =  50.83 , testing = 58.49**\n",
    "- 1024 neurons , 1 layer , 50 epochs , Dropout = 0.2 , Training =  59.51  , testing = 57.91\n",
    "- 1024 neurons , 1 layer , 100 epochs , Dropout = 0.2 , Training =  62.22 , testing = 59.82\n",
    "- 1024 neurons , 2 layer , 50 epochs , Dropout = 0.2 , Training =  74.27 , testing = 41.09\n",
    "- 1024 neurons , 2 layer , 50 epochs , Dropout = 0.4 , Training =  62.44 , testing = 42.17\n",
    "- 512 neurons , 1 layer , 50 epochs , Dropout = None , Training =  63.50, Testing = 55.85\n",
    "- 512 neurons , 1 layer , 50 epochs , Dropout = 0.2 , Training =  51.97, Testing = 56.71"
   ]
  },
  {
   "cell_type": "markdown",
   "id": "97e6841d",
   "metadata": {},
   "source": [
    "# LSTM Testing"
   ]
  },
  {
   "cell_type": "code",
   "execution_count": 28,
   "id": "6861cb90",
   "metadata": {
    "execution": {
     "iopub.execute_input": "2024-01-28T15:55:40.505248Z",
     "iopub.status.busy": "2024-01-28T15:55:40.504948Z",
     "iopub.status.idle": "2024-01-28T15:55:46.798460Z",
     "shell.execute_reply": "2024-01-28T15:55:46.797338Z",
     "shell.execute_reply.started": "2024-01-28T15:55:40.505223Z"
    }
   },
   "outputs": [],
   "source": [
    "predicted_grids = []\n",
    "\n",
    "model.eval()\n",
    "for test_grid in range(len(test_grids)):\n",
    "    predicted = replace_zeros_with_predicted(model,test_grids[test_grid])\n",
    "    predicted_grids.append(predicted)"
   ]
  },
  {
   "cell_type": "code",
   "execution_count": 29,
   "id": "a4a7c6fa",
   "metadata": {
    "execution": {
     "iopub.execute_input": "2024-01-28T15:55:46.800040Z",
     "iopub.status.busy": "2024-01-28T15:55:46.799721Z",
     "iopub.status.idle": "2024-01-28T15:55:48.228786Z",
     "shell.execute_reply": "2024-01-28T15:55:48.227592Z",
     "shell.execute_reply.started": "2024-01-28T15:55:46.800013Z"
    }
   },
   "outputs": [
    {
     "name": "stdout",
     "output_type": "stream",
     "text": [
      "Total time taken: 1.42 seconds\n"
     ]
    }
   ],
   "source": [
    "start_time = time.time()\n",
    "indexes = []\n",
    "labels= []\n",
    "for i,j in enumerate(predicted_grids):\n",
    "    preds = j.reshape(9,9)\n",
    "    for row in range(0,9):\n",
    "        for col in range(0,9):\n",
    "            index = str(i)+\"_\"+str(row)+str(col)\n",
    "            indexes.append(index)\n",
    "            labels.append(int(preds[row,col]))\n",
    "\n",
    "end_time = time.time()\n",
    "elapsed_time = end_time - start_time\n",
    "\n",
    "print(f\"Total time taken: {elapsed_time:.2f} seconds\")"
   ]
  },
  {
   "cell_type": "code",
   "execution_count": 30,
   "id": "5f4bb95a",
   "metadata": {
    "execution": {
     "iopub.execute_input": "2024-01-28T15:55:48.230448Z",
     "iopub.status.busy": "2024-01-28T15:55:48.230110Z",
     "iopub.status.idle": "2024-01-28T15:55:50.212622Z",
     "shell.execute_reply": "2024-01-28T15:55:50.211828Z",
     "shell.execute_reply.started": "2024-01-28T15:55:48.230417Z"
    }
   },
   "outputs": [],
   "source": [
    "s =  {\"id\":indexes , \"values\":labels}\n",
    "s = pd.DataFrame(s)\n",
    "s.to_csv(\"Submission_LSTM.csv\", index=False)"
   ]
  },
  {
   "cell_type": "markdown",
   "id": "a69bd2b6",
   "metadata": {},
   "source": [
    "# CNN + LSTM"
   ]
  },
  {
   "cell_type": "code",
   "execution_count": 31,
   "id": "52ab0953",
   "metadata": {
    "execution": {
     "iopub.execute_input": "2024-01-28T15:55:50.214188Z",
     "iopub.status.busy": "2024-01-28T15:55:50.213828Z",
     "iopub.status.idle": "2024-01-28T15:55:50.264141Z",
     "shell.execute_reply": "2024-01-28T15:55:50.263443Z",
     "shell.execute_reply.started": "2024-01-28T15:55:50.214151Z"
    }
   },
   "outputs": [],
   "source": [
    "class SudokuSolverCNNLSTM(nn.Module):\n",
    "    def __init__(self):\n",
    "        super(SudokuSolverCNNLSTM, self).__init__()\n",
    "        self.conv1 = nn.Conv2d(1, 64, kernel_size=3, padding=1)\n",
    "        self.bn1 = nn.BatchNorm2d(64)\n",
    "        self.conv2 = nn.Conv2d(64, 128, kernel_size=3, padding=1)\n",
    "        self.bn2 = nn.BatchNorm2d(128)\n",
    "        self.conv3 = nn.Conv2d(128, 512, kernel_size=3,padding=1)\n",
    "        self.bn3 = nn.BatchNorm2d(512)\n",
    "        self.conv4 = nn.Conv2d(512, 512, kernel_size=1)\n",
    "        self.lstm_input_size = 512  \n",
    "        self.hidden_size = 512  \n",
    "        self.num_layers = 1  \n",
    "        self.lstm = nn.LSTM(self.lstm_input_size, self.hidden_size, self.num_layers, batch_first=True)\n",
    "        self.dropout = nn.Dropout(p=0.2)  \n",
    "        self.fc1 = nn.Linear(self.hidden_size, 81 * 9)\n",
    "\n",
    "    def forward(self, x):\n",
    "        batch_size = x.size(0)\n",
    "        x = F.relu(self.bn1(self.conv1(x)))\n",
    "        x = F.relu(self.bn2(self.conv2(x)))\n",
    "        x = F.relu(self.bn3(self.conv3(x)))\n",
    "        x = F.relu(self.conv4(x))\n",
    "        x = x.view(batch_size, -1, self.lstm_input_size)  \n",
    "        h0 = torch.zeros(self.num_layers, batch_size, self.hidden_size).to(x.device)  \n",
    "        c0 = torch.zeros(self.num_layers, batch_size, self.hidden_size).to(x.device)  \n",
    "        out, _ = self.lstm(x, (h0, c0))\n",
    "        out = self.dropout(out)  \n",
    "        out = self.fc1(out[:, -1, :]) \n",
    "        return out.view(-1, 9)  \n",
    "\n",
    "model = SudokuSolverCNNLSTM()"
   ]
  },
  {
   "cell_type": "code",
   "execution_count": 32,
   "id": "0abe28e2",
   "metadata": {
    "execution": {
     "iopub.execute_input": "2024-01-28T15:55:50.265383Z",
     "iopub.status.busy": "2024-01-28T15:55:50.265119Z",
     "iopub.status.idle": "2024-01-28T15:55:50.277256Z",
     "shell.execute_reply": "2024-01-28T15:55:50.276247Z",
     "shell.execute_reply.started": "2024-01-28T15:55:50.265357Z"
    }
   },
   "outputs": [
    {
     "data": {
      "text/plain": [
       "SudokuSolverCNNLSTM(\n",
       "  (conv1): Conv2d(1, 64, kernel_size=(3, 3), stride=(1, 1), padding=(1, 1))\n",
       "  (bn1): BatchNorm2d(64, eps=1e-05, momentum=0.1, affine=True, track_running_stats=True)\n",
       "  (conv2): Conv2d(64, 128, kernel_size=(3, 3), stride=(1, 1), padding=(1, 1))\n",
       "  (bn2): BatchNorm2d(128, eps=1e-05, momentum=0.1, affine=True, track_running_stats=True)\n",
       "  (conv3): Conv2d(128, 512, kernel_size=(3, 3), stride=(1, 1))\n",
       "  (bn3): BatchNorm2d(512, eps=1e-05, momentum=0.1, affine=True, track_running_stats=True)\n",
       "  (conv4): Conv2d(512, 512, kernel_size=(1, 1), stride=(1, 1))\n",
       "  (lstm): LSTM(512, 512, batch_first=True)\n",
       "  (dropout): Dropout(p=0.2, inplace=False)\n",
       "  (fc1): Linear(in_features=512, out_features=729, bias=True)\n",
       ")"
      ]
     },
     "execution_count": 32,
     "metadata": {},
     "output_type": "execute_result"
    }
   ],
   "source": [
    "model.to(device)\n",
    "model"
   ]
  },
  {
   "cell_type": "code",
   "execution_count": 33,
   "id": "c35468e5",
   "metadata": {
    "execution": {
     "iopub.execute_input": "2024-01-28T15:55:50.278689Z",
     "iopub.status.busy": "2024-01-28T15:55:50.278316Z",
     "iopub.status.idle": "2024-01-28T16:01:23.776333Z",
     "shell.execute_reply": "2024-01-28T16:01:23.775307Z",
     "shell.execute_reply.started": "2024-01-28T15:55:50.278656Z"
    }
   },
   "outputs": [
    {
     "name": "stderr",
     "output_type": "stream",
     "text": [
      "Epoch 1 Training: 100%|██████████| 318/318 [00:12<00:00, 24.66it/s]\n",
      "Epoch 1 Validation: 100%|██████████| 157/157 [00:01<00:00, 127.56it/s]\n"
     ]
    },
    {
     "name": "stdout",
     "output_type": "stream",
     "text": [
      "Epoch 1: Train Loss: 1.9881, Train Accuracy: 0.2004, Validation Loss: 1.8362, Validation Accuracy: 0.2538\n"
     ]
    },
    {
     "name": "stderr",
     "output_type": "stream",
     "text": [
      "Epoch 2 Training: 100%|██████████| 318/318 [00:12<00:00, 24.72it/s]\n",
      "Epoch 2 Validation: 100%|██████████| 157/157 [00:01<00:00, 131.28it/s]\n"
     ]
    },
    {
     "name": "stdout",
     "output_type": "stream",
     "text": [
      "Epoch 2: Train Loss: 1.7198, Train Accuracy: 0.3234, Validation Loss: 1.5811, Validation Accuracy: 0.3972\n"
     ]
    },
    {
     "name": "stderr",
     "output_type": "stream",
     "text": [
      "Epoch 3 Training: 100%|██████████| 318/318 [00:12<00:00, 26.02it/s]\n",
      "Epoch 3 Validation: 100%|██████████| 157/157 [00:01<00:00, 133.54it/s]\n"
     ]
    },
    {
     "name": "stdout",
     "output_type": "stream",
     "text": [
      "Epoch 3: Train Loss: 1.5342, Train Accuracy: 0.4241, Validation Loss: 1.4378, Validation Accuracy: 0.4785\n"
     ]
    },
    {
     "name": "stderr",
     "output_type": "stream",
     "text": [
      "Epoch 4 Training: 100%|██████████| 318/318 [00:11<00:00, 26.61it/s]\n",
      "Epoch 4 Validation: 100%|██████████| 157/157 [00:01<00:00, 133.37it/s]\n"
     ]
    },
    {
     "name": "stdout",
     "output_type": "stream",
     "text": [
      "Epoch 4: Train Loss: 1.4094, Train Accuracy: 0.4878, Validation Loss: 1.3289, Validation Accuracy: 0.5260\n"
     ]
    },
    {
     "name": "stderr",
     "output_type": "stream",
     "text": [
      "Epoch 5 Training: 100%|██████████| 318/318 [00:11<00:00, 26.72it/s]\n",
      "Epoch 5 Validation: 100%|██████████| 157/157 [00:01<00:00, 134.07it/s]\n"
     ]
    },
    {
     "name": "stdout",
     "output_type": "stream",
     "text": [
      "Epoch 5: Train Loss: 1.3150, Train Accuracy: 0.5299, Validation Loss: 1.2485, Validation Accuracy: 0.5595\n"
     ]
    },
    {
     "name": "stderr",
     "output_type": "stream",
     "text": [
      "Epoch 6 Training: 100%|██████████| 318/318 [00:11<00:00, 26.61it/s]\n",
      "Epoch 6 Validation: 100%|██████████| 157/157 [00:01<00:00, 133.40it/s]\n"
     ]
    },
    {
     "name": "stdout",
     "output_type": "stream",
     "text": [
      "Epoch 6: Train Loss: 1.2504, Train Accuracy: 0.5568, Validation Loss: 1.1969, Validation Accuracy: 0.5810\n"
     ]
    },
    {
     "name": "stderr",
     "output_type": "stream",
     "text": [
      "Epoch 7 Training: 100%|██████████| 318/318 [00:12<00:00, 26.30it/s]\n",
      "Epoch 7 Validation: 100%|██████████| 157/157 [00:01<00:00, 132.33it/s]\n"
     ]
    },
    {
     "name": "stdout",
     "output_type": "stream",
     "text": [
      "Epoch 7: Train Loss: 1.2019, Train Accuracy: 0.5761, Validation Loss: 1.1609, Validation Accuracy: 0.5936\n"
     ]
    },
    {
     "name": "stderr",
     "output_type": "stream",
     "text": [
      "Epoch 8 Training: 100%|██████████| 318/318 [00:12<00:00, 26.09it/s]\n",
      "Epoch 8 Validation: 100%|██████████| 157/157 [00:01<00:00, 132.18it/s]\n"
     ]
    },
    {
     "name": "stdout",
     "output_type": "stream",
     "text": [
      "Epoch 8: Train Loss: 1.1623, Train Accuracy: 0.5913, Validation Loss: 1.1303, Validation Accuracy: 0.6035\n"
     ]
    },
    {
     "name": "stderr",
     "output_type": "stream",
     "text": [
      "Epoch 9 Training: 100%|██████████| 318/318 [00:12<00:00, 26.16it/s]\n",
      "Epoch 9 Validation: 100%|██████████| 157/157 [00:01<00:00, 133.81it/s]\n"
     ]
    },
    {
     "name": "stdout",
     "output_type": "stream",
     "text": [
      "Epoch 9: Train Loss: 1.1304, Train Accuracy: 0.6034, Validation Loss: 1.1127, Validation Accuracy: 0.6087\n"
     ]
    },
    {
     "name": "stderr",
     "output_type": "stream",
     "text": [
      "Epoch 10 Training: 100%|██████████| 318/318 [00:12<00:00, 26.34it/s]\n",
      "Epoch 10 Validation: 100%|██████████| 157/157 [00:01<00:00, 132.94it/s]\n"
     ]
    },
    {
     "name": "stdout",
     "output_type": "stream",
     "text": [
      "Epoch 10: Train Loss: 1.1013, Train Accuracy: 0.6134, Validation Loss: 1.0949, Validation Accuracy: 0.6153\n"
     ]
    },
    {
     "name": "stderr",
     "output_type": "stream",
     "text": [
      "Epoch 11 Training: 100%|██████████| 318/318 [00:12<00:00, 26.40it/s]\n",
      "Epoch 11 Validation: 100%|██████████| 157/157 [00:01<00:00, 133.50it/s]\n"
     ]
    },
    {
     "name": "stdout",
     "output_type": "stream",
     "text": [
      "Epoch 11: Train Loss: 1.0752, Train Accuracy: 0.6224, Validation Loss: 1.0833, Validation Accuracy: 0.6190\n"
     ]
    },
    {
     "name": "stderr",
     "output_type": "stream",
     "text": [
      "Epoch 12 Training: 100%|██████████| 318/318 [00:12<00:00, 26.49it/s]\n",
      "Epoch 12 Validation: 100%|██████████| 157/157 [00:01<00:00, 132.28it/s]\n"
     ]
    },
    {
     "name": "stdout",
     "output_type": "stream",
     "text": [
      "Epoch 12: Train Loss: 1.0508, Train Accuracy: 0.6309, Validation Loss: 1.0752, Validation Accuracy: 0.6209\n"
     ]
    },
    {
     "name": "stderr",
     "output_type": "stream",
     "text": [
      "Epoch 13 Training: 100%|██████████| 318/318 [00:12<00:00, 26.45it/s]\n",
      "Epoch 13 Validation: 100%|██████████| 157/157 [00:01<00:00, 133.61it/s]\n"
     ]
    },
    {
     "name": "stdout",
     "output_type": "stream",
     "text": [
      "Epoch 13: Train Loss: 1.0276, Train Accuracy: 0.6381, Validation Loss: 1.0740, Validation Accuracy: 0.6211\n"
     ]
    },
    {
     "name": "stderr",
     "output_type": "stream",
     "text": [
      "Epoch 14 Training: 100%|██████████| 318/318 [00:12<00:00, 26.46it/s]\n",
      "Epoch 14 Validation: 100%|██████████| 157/157 [00:01<00:00, 133.34it/s]\n"
     ]
    },
    {
     "name": "stdout",
     "output_type": "stream",
     "text": [
      "Epoch 14: Train Loss: 1.0051, Train Accuracy: 0.6456, Validation Loss: 1.0738, Validation Accuracy: 0.6220\n"
     ]
    },
    {
     "name": "stderr",
     "output_type": "stream",
     "text": [
      "Epoch 15 Training: 100%|██████████| 318/318 [00:12<00:00, 26.42it/s]\n",
      "Epoch 15 Validation: 100%|██████████| 157/157 [00:01<00:00, 133.32it/s]\n"
     ]
    },
    {
     "name": "stdout",
     "output_type": "stream",
     "text": [
      "Epoch 15: Train Loss: 0.9845, Train Accuracy: 0.6523, Validation Loss: 1.0763, Validation Accuracy: 0.6206\n"
     ]
    },
    {
     "name": "stderr",
     "output_type": "stream",
     "text": [
      "Epoch 16 Training: 100%|██████████| 318/318 [00:12<00:00, 26.44it/s]\n",
      "Epoch 16 Validation: 100%|██████████| 157/157 [00:01<00:00, 132.56it/s]\n"
     ]
    },
    {
     "name": "stdout",
     "output_type": "stream",
     "text": [
      "Epoch 16: Train Loss: 0.9659, Train Accuracy: 0.6585, Validation Loss: 1.0817, Validation Accuracy: 0.6207\n"
     ]
    },
    {
     "name": "stderr",
     "output_type": "stream",
     "text": [
      "Epoch 17 Training: 100%|██████████| 318/318 [00:12<00:00, 26.34it/s]\n",
      "Epoch 17 Validation: 100%|██████████| 157/157 [00:01<00:00, 132.65it/s]\n"
     ]
    },
    {
     "name": "stdout",
     "output_type": "stream",
     "text": [
      "Epoch 17: Train Loss: 0.9478, Train Accuracy: 0.6643, Validation Loss: 1.0813, Validation Accuracy: 0.6212\n"
     ]
    },
    {
     "name": "stderr",
     "output_type": "stream",
     "text": [
      "Epoch 18 Training: 100%|██████████| 318/318 [00:12<00:00, 26.40it/s]\n",
      "Epoch 18 Validation: 100%|██████████| 157/157 [00:01<00:00, 132.51it/s]\n"
     ]
    },
    {
     "name": "stdout",
     "output_type": "stream",
     "text": [
      "Epoch 18: Train Loss: 0.9315, Train Accuracy: 0.6697, Validation Loss: 1.0891, Validation Accuracy: 0.6195\n"
     ]
    },
    {
     "name": "stderr",
     "output_type": "stream",
     "text": [
      "Epoch 19 Training: 100%|██████████| 318/318 [00:12<00:00, 26.35it/s]\n",
      "Epoch 19 Validation: 100%|██████████| 157/157 [00:01<00:00, 133.45it/s]\n"
     ]
    },
    {
     "name": "stdout",
     "output_type": "stream",
     "text": [
      "Epoch 19: Train Loss: 0.9152, Train Accuracy: 0.6750, Validation Loss: 1.0920, Validation Accuracy: 0.6193\n"
     ]
    },
    {
     "name": "stderr",
     "output_type": "stream",
     "text": [
      "Epoch 20 Training: 100%|██████████| 318/318 [00:12<00:00, 26.36it/s]\n",
      "Epoch 20 Validation: 100%|██████████| 157/157 [00:01<00:00, 132.80it/s]\n"
     ]
    },
    {
     "name": "stdout",
     "output_type": "stream",
     "text": [
      "Epoch 20: Train Loss: 0.9011, Train Accuracy: 0.6796, Validation Loss: 1.0962, Validation Accuracy: 0.6191\n"
     ]
    },
    {
     "name": "stderr",
     "output_type": "stream",
     "text": [
      "Epoch 21 Training: 100%|██████████| 318/318 [00:12<00:00, 26.38it/s]\n",
      "Epoch 21 Validation: 100%|██████████| 157/157 [00:01<00:00, 132.08it/s]\n"
     ]
    },
    {
     "name": "stdout",
     "output_type": "stream",
     "text": [
      "Epoch 21: Train Loss: 0.8876, Train Accuracy: 0.6840, Validation Loss: 1.1061, Validation Accuracy: 0.6174\n"
     ]
    },
    {
     "name": "stderr",
     "output_type": "stream",
     "text": [
      "Epoch 22 Training: 100%|██████████| 318/318 [00:12<00:00, 26.31it/s]\n",
      "Epoch 22 Validation: 100%|██████████| 157/157 [00:01<00:00, 130.29it/s]\n"
     ]
    },
    {
     "name": "stdout",
     "output_type": "stream",
     "text": [
      "Epoch 22: Train Loss: 0.8753, Train Accuracy: 0.6882, Validation Loss: 1.1125, Validation Accuracy: 0.6160\n"
     ]
    },
    {
     "name": "stderr",
     "output_type": "stream",
     "text": [
      "Epoch 23 Training: 100%|██████████| 318/318 [00:12<00:00, 26.39it/s]\n",
      "Epoch 23 Validation: 100%|██████████| 157/157 [00:01<00:00, 133.28it/s]\n"
     ]
    },
    {
     "name": "stdout",
     "output_type": "stream",
     "text": [
      "Epoch 23: Train Loss: 0.8628, Train Accuracy: 0.6921, Validation Loss: 1.1192, Validation Accuracy: 0.6155\n"
     ]
    },
    {
     "name": "stderr",
     "output_type": "stream",
     "text": [
      "Epoch 24 Training: 100%|██████████| 318/318 [00:12<00:00, 26.35it/s]\n",
      "Epoch 24 Validation: 100%|██████████| 157/157 [00:01<00:00, 132.60it/s]\n"
     ]
    },
    {
     "name": "stdout",
     "output_type": "stream",
     "text": [
      "Epoch 24: Train Loss: 0.8509, Train Accuracy: 0.6961, Validation Loss: 1.1239, Validation Accuracy: 0.6141\n"
     ]
    },
    {
     "name": "stderr",
     "output_type": "stream",
     "text": [
      "Epoch 25 Training: 100%|██████████| 318/318 [00:12<00:00, 26.39it/s]\n",
      "Epoch 25 Validation: 100%|██████████| 157/157 [00:01<00:00, 133.15it/s]\n"
     ]
    },
    {
     "name": "stdout",
     "output_type": "stream",
     "text": [
      "Epoch 25: Train Loss: 0.8409, Train Accuracy: 0.6996, Validation Loss: 1.1326, Validation Accuracy: 0.6139\n"
     ]
    },
    {
     "data": {
      "image/png": "[encoded data removed]",
      "text/plain": [
       "<Figure size 1000x500 with 2 Axes>"
      ]
     },
     "metadata": {},
     "output_type": "display_data"
    }
   ],
   "source": [
    "optimizer = optim.Adam(model.parameters(), lr=0.001)\n",
    "train_loader = DataLoader(train_set, batch_size=126, shuffle=True)\n",
    "test_loader = DataLoader(val_set, batch_size=64, shuffle=False)\n",
    "\n",
    "train_model(model, train_loader, test_loader, 25)"
   ]
  },
  {
   "cell_type": "markdown",
   "id": "76c6e522",
   "metadata": {},
   "source": [
    "# CNN + LSTM Testing"
   ]
  },
  {
   "cell_type": "code",
   "execution_count": 34,
   "id": "cd1e4a1f",
   "metadata": {
    "execution": {
     "iopub.execute_input": "2024-01-28T16:01:23.777786Z",
     "iopub.status.busy": "2024-01-28T16:01:23.777485Z",
     "iopub.status.idle": "2024-01-28T16:01:41.085154Z",
     "shell.execute_reply": "2024-01-28T16:01:41.084338Z",
     "shell.execute_reply.started": "2024-01-28T16:01:23.777760Z"
    }
   },
   "outputs": [],
   "source": [
    "predicted_grids = []\n",
    "\n",
    "model.eval()\n",
    "for test_grid in range(len(test_grids)):\n",
    "    predicted = replace_zeros_with_predicted(model,test_grids[test_grid])\n",
    "    predicted_grids.append(predicted)"
   ]
  },
  {
   "cell_type": "code",
   "execution_count": 35,
   "id": "bb2198fb",
   "metadata": {
    "execution": {
     "iopub.execute_input": "2024-01-28T16:01:41.086790Z",
     "iopub.status.busy": "2024-01-28T16:01:41.086443Z",
     "iopub.status.idle": "2024-01-28T16:01:42.507757Z",
     "shell.execute_reply": "2024-01-28T16:01:42.506746Z",
     "shell.execute_reply.started": "2024-01-28T16:01:41.086759Z"
    }
   },
   "outputs": [
    {
     "name": "stdout",
     "output_type": "stream",
     "text": [
      "Total time taken: 1.41 seconds\n"
     ]
    }
   ],
   "source": [
    "start_time = time.time()\n",
    "indexes = []\n",
    "labels= []\n",
    "for i,j in enumerate(predicted_grids):\n",
    "    preds = j.reshape(9,9)\n",
    "    for row in range(0,9):\n",
    "        for col in range(0,9):\n",
    "            index = str(i)+\"_\"+str(row)+str(col)\n",
    "            indexes.append(index)\n",
    "            labels.append(int(preds[row,col]))\n",
    "\n",
    "end_time = time.time()\n",
    "elapsed_time = end_time - start_time\n",
    "\n",
    "print(f\"Total time taken: {elapsed_time:.2f} seconds\")"
   ]
  },
  {
   "cell_type": "code",
   "execution_count": 36,
   "id": "f7166966",
   "metadata": {
    "execution": {
     "iopub.execute_input": "2024-01-28T16:01:42.509103Z",
     "iopub.status.busy": "2024-01-28T16:01:42.508764Z",
     "iopub.status.idle": "2024-01-28T16:01:44.468347Z",
     "shell.execute_reply": "2024-01-28T16:01:44.467302Z",
     "shell.execute_reply.started": "2024-01-28T16:01:42.509076Z"
    }
   },
   "outputs": [],
   "source": [
    "s =  {\"id\":indexes , \"values\":labels}\n",
    "s = pd.DataFrame(s)\n",
    "s.to_csv('Submission_CNNLSTM.csv', index=False)"
   ]
  },
  {
   "cell_type": "markdown",
   "id": "e842c40d",
   "metadata": {},
   "source": [
    "# Overall Results\n",
    "\n",
    "Kaggle Accuracy:\n",
    "\n",
    "Fully Connected Network : 62.1\n",
    "\n",
    "Convolutional Neural Network : 83.6\n",
    "\n",
    "LSTM -  61\n",
    "\n",
    "CNN + LSTM  -  64 \n",
    "\n"
   ]
  }
 ],
 "metadata": {
  "kaggle": {
   "accelerator": "none",
   "dataSources": [
    {
     "datasetId": 4229823,
     "sourceId": 7450079,
     "sourceType": "datasetVersion"
    },
    {
     "datasetId": 4361758,
     "sourceId": 7491506,
     "sourceType": "datasetVersion"
    }
   ],
   "dockerImageVersionId": 30635,
   "isGpuEnabled": false,
   "isInternetEnabled": true,
   "language": "python",
   "sourceType": "notebook"
  },
  "kernelspec": {
   "display_name": "Python 3 (ipykernel)",
   "language": "python",
   "name": "python3"
  },
  "language_info": {
   "codemirror_mode": {
    "name": "ipython",
    "version": 3
   },
   "file_extension": ".py",
   "mimetype": "text/x-python",
   "name": "python",
   "nbconvert_exporter": "python",
   "pygments_lexer": "ipython3",
   "version": "3.10.13"
  }
 },
 "nbformat": 4,
 "nbformat_minor": 5
}
